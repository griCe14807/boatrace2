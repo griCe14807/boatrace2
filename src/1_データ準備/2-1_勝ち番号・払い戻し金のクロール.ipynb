{
 "cells": [
  {
   "cell_type": "markdown",
   "metadata": {},
   "source": [
    "# 勝式とオッズのデータをクロール"
   ]
  },
  {
   "cell_type": "code",
   "execution_count": 1,
   "metadata": {},
   "outputs": [],
   "source": [
    "from datetime import datetime\n",
    "from datetime import timedelta\n",
    "from http.client import RemoteDisconnected\n",
    "from bs4 import BeautifulSoup\n",
    "import urllib.request\n",
    "import time\n",
    "import pandas as pd\n",
    "import numpy as np\n",
    "import re\n",
    "from tqdm.notebook import tqdm"
   ]
  },
  {
   "cell_type": "markdown",
   "metadata": {},
   "source": [
    "## 1. モジュールをロード"
   ]
  },
  {
   "cell_type": "code",
   "execution_count": 2,
   "metadata": {},
   "outputs": [],
   "source": [
    "def make_url(crawl_key, rno, jcd, hd):\n",
    "    \"\"\"\n",
    "    :param crawl_key: 何をcrawleするか。選択肢は、\"odds3t\"（オッズ）, \"racelist\"(出走表）,\n",
    "    \"beforeinfo\" (直前情報）もしくは\"raceresult\" (レース結果)\n",
    "    :param rno: レース番号。8Rなど、1-12の数字 + R をstrで\n",
    "    :param jcd: 会場名。\"桐　生\"、\"びわこ\"など\n",
    "    :param hd: holding day (レース開催日)、2019/03/28などyyyy/mm/ddの形で入力（strで）\n",
    "    :return dds_url: 公式サイト最終オッズが書かれているページのurl. これを使ってcrawlする\n",
    "    \"\"\"\n",
    "    jcd_dict =  {\"桐　生\": \"01\", \"戸　田\": \"02\", \"江戸川\": \"03\", \"平和島\": \"04\", \"多摩川\": \"05\", \"浜名湖\": \"06\", \"蒲　郡\": \"07\", \"常　滑\": \"08\",\n",
    "                \"　津　\": \"09\", \"三　国\": \"10\", \"びわこ\": \"11\", \"住之江\": \"12\", \"尼　崎\": \"13\", \"鳴　門\": \"14\", \"丸　亀\": \"15\", \"児　島\": \"16\",\n",
    "                \"宮　島\": \"17\", \"徳　山\": \"18\", \"下　関\": \"19\", \"若　松\": \"20\", \"芦　屋\": \"21\", \"福　岡\": \"22\", \"唐　津\": \"23\", \"大　村\": \"24\"\n",
    "                }\n",
    "    rno = rno[:-1]\n",
    "    hd = hd[0:4] + hd[5:7] + hd[8:10]\n",
    "\n",
    "    odds_url = \"http://boatrace.jp/owpc/pc/race/\" + crawl_key + \"?rno=\" + rno + \"&jcd=\" + jcd_dict[jcd] + \"&hd=\" + hd\n",
    "\n",
    "    return odds_url\n",
    "\n",
    "\n",
    "def html_parser(site_url):\n",
    "    headers = {\n",
    "        \"User-Agent\": \"Mozilla/5.0 (X11; Ubuntu; Linux x86_64; rv:47.0) Gecko/20100101 Firefox/47.0\",\n",
    "    }\n",
    "\n",
    "    try:\n",
    "        request = urllib.request.Request(url=site_url, headers=headers)\n",
    "        response = urllib.request.urlopen(request)\n",
    "\n",
    "        html = response.read().decode('utf-8')\n",
    "        soup = BeautifulSoup(html, 'lxml')\n",
    "\n",
    "    # データベース作成の際、remotedisconnectedになった場合,そのレースをパス\n",
    "    except RemoteDisconnected:\n",
    "        print(\"remote disconnected error !\")\n",
    "        return None\n",
    "\n",
    "    except ConnectionResetError:\n",
    "        print(\"Connection Reset error !\")\n",
    "        return None\n",
    "\n",
    "    return soup\n",
    "\n",
    "def get_extractor(crawl_key):\n",
    "    \n",
    "    \"\"\"\n",
    "    クロール先に応じたcrawlerを用意\n",
    "    \n",
    "    \"\"\"\n",
    "    \n",
    "    extractor_dict = {\"racelist\": scrape_racelist,\n",
    "                      \"beforeinfo\": scrape_beforeinfo,\n",
    "                      \"raceresult\": scrape_raceresult,\n",
    "                      }\n",
    "    \n",
    "    return extractor_dict[crawl_key]"
   ]
  },
  {
   "cell_type": "markdown",
   "metadata": {},
   "source": [
    "## 2. 実行\n",
    "- クロール元：ボートレース 公式サイト（https://boatrace.jp/owpc/pc/race/racelist?rno=12&jcd=01&hd=20210325など）\n",
    "- 保存先：'./crawledData/　以下。日にちごとにファイルを作成し保存"
   ]
  },
  {
   "cell_type": "markdown",
   "metadata": {},
   "source": [
    "### 2.1 レースデータのみがある日付をピックアップ"
   ]
  },
  {
   "cell_type": "code",
   "execution_count": 3,
   "metadata": {},
   "outputs": [
    {
     "name": "stdout",
     "output_type": "stream",
     "text": [
      "67日分のデータが未収集\n"
     ]
    }
   ],
   "source": [
    "import glob\n",
    "import os\n",
    "race_file_set = set([os.path.basename(file) for file in glob.glob(os.path.join('../../data/crawledData', '*.pkl'))])\n",
    "win_and_pay_file_set = set([os.path.basename(file) for file in glob.glob(os.path.join('../../data/crawledData/win_and_pay', '*.pkl'))])\n",
    "\n",
    "diff_file_name_list = list(race_file_set - win_and_pay_file_set)\n",
    "hd_list = [filename[0:4] + \"/\" + filename[4:6] + \"/\" + filename[6:8] for filename in diff_file_name_list]\n",
    "print(\"{0}日分のデータが未収集\".format(len(hd_list)))"
   ]
  },
  {
   "cell_type": "markdown",
   "metadata": {},
   "source": [
    "### 2.2 実行"
   ]
  },
  {
   "cell_type": "code",
   "execution_count": 4,
   "metadata": {},
   "outputs": [
    {
     "name": "stdout",
     "output_type": "stream",
     "text": [
      "2020/11/18 のデータをクロール中\n"
     ]
    },
    {
     "data": {
      "application/vnd.jupyter.widget-view+json": {
       "model_id": "8394f7b9ffaf4e78a547f6e177332e6a",
       "version_major": 2,
       "version_minor": 0
      },
      "text/plain": [
       "  0%|          | 0/24 [00:00<?, ?it/s]"
      ]
     },
     "metadata": {},
     "output_type": "display_data"
    },
    {
     "name": "stdout",
     "output_type": "stream",
     "text": [
      "2020/10/03 のデータをクロール中\n"
     ]
    },
    {
     "data": {
      "application/vnd.jupyter.widget-view+json": {
       "model_id": "245c32e177184ec3952527e13bd7ff54",
       "version_major": 2,
       "version_minor": 0
      },
      "text/plain": [
       "  0%|          | 0/24 [00:00<?, ?it/s]"
      ]
     },
     "metadata": {},
     "output_type": "display_data"
    },
    {
     "name": "stdout",
     "output_type": "stream",
     "text": [
      "2021/02/20 のデータをクロール中\n"
     ]
    },
    {
     "data": {
      "application/vnd.jupyter.widget-view+json": {
       "model_id": "05320b78d88944fbb0d102c337807df2",
       "version_major": 2,
       "version_minor": 0
      },
      "text/plain": [
       "  0%|          | 0/24 [00:00<?, ?it/s]"
      ]
     },
     "metadata": {},
     "output_type": "display_data"
    },
    {
     "name": "stdout",
     "output_type": "stream",
     "text": [
      "2020/12/31 のデータをクロール中\n"
     ]
    },
    {
     "data": {
      "application/vnd.jupyter.widget-view+json": {
       "model_id": "58e36cbb184b4ea79af53b3909875b9f",
       "version_major": 2,
       "version_minor": 0
      },
      "text/plain": [
       "  0%|          | 0/24 [00:00<?, ?it/s]"
      ]
     },
     "metadata": {},
     "output_type": "display_data"
    },
    {
     "name": "stdout",
     "output_type": "stream",
     "text": [
      "2021/01/08 のデータをクロール中\n"
     ]
    },
    {
     "data": {
      "application/vnd.jupyter.widget-view+json": {
       "model_id": "9192a0a73ae6462fb062db202f230302",
       "version_major": 2,
       "version_minor": 0
      },
      "text/plain": [
       "  0%|          | 0/24 [00:00<?, ?it/s]"
      ]
     },
     "metadata": {},
     "output_type": "display_data"
    },
    {
     "name": "stdout",
     "output_type": "stream",
     "text": [
      "2021/02/19 のデータをクロール中\n"
     ]
    },
    {
     "data": {
      "application/vnd.jupyter.widget-view+json": {
       "model_id": "26d578885d1c44c78a1b64e163b8a104",
       "version_major": 2,
       "version_minor": 0
      },
      "text/plain": [
       "  0%|          | 0/24 [00:00<?, ?it/s]"
      ]
     },
     "metadata": {},
     "output_type": "display_data"
    },
    {
     "name": "stdout",
     "output_type": "stream",
     "text": [
      "2020/12/01 のデータをクロール中\n"
     ]
    },
    {
     "data": {
      "application/vnd.jupyter.widget-view+json": {
       "model_id": "c150f0e9f332476b90d37c5776e989a5",
       "version_major": 2,
       "version_minor": 0
      },
      "text/plain": [
       "  0%|          | 0/24 [00:00<?, ?it/s]"
      ]
     },
     "metadata": {},
     "output_type": "display_data"
    },
    {
     "name": "stdout",
     "output_type": "stream",
     "text": [
      "2021/03/11 のデータをクロール中\n"
     ]
    },
    {
     "data": {
      "application/vnd.jupyter.widget-view+json": {
       "model_id": "fc45d96d023e43c6b2218b760d6122f7",
       "version_major": 2,
       "version_minor": 0
      },
      "text/plain": [
       "  0%|          | 0/24 [00:00<?, ?it/s]"
      ]
     },
     "metadata": {},
     "output_type": "display_data"
    },
    {
     "name": "stdout",
     "output_type": "stream",
     "text": [
      "2021/01/21 のデータをクロール中\n"
     ]
    },
    {
     "data": {
      "application/vnd.jupyter.widget-view+json": {
       "model_id": "82820e953ef147a0bdfefeddc92a62e6",
       "version_major": 2,
       "version_minor": 0
      },
      "text/plain": [
       "  0%|          | 0/24 [00:00<?, ?it/s]"
      ]
     },
     "metadata": {},
     "output_type": "display_data"
    },
    {
     "name": "stdout",
     "output_type": "stream",
     "text": [
      "2020/10/01 のデータをクロール中\n"
     ]
    },
    {
     "data": {
      "application/vnd.jupyter.widget-view+json": {
       "model_id": "0f0798e4083e40928279be52233cda45",
       "version_major": 2,
       "version_minor": 0
      },
      "text/plain": [
       "  0%|          | 0/24 [00:00<?, ?it/s]"
      ]
     },
     "metadata": {},
     "output_type": "display_data"
    },
    {
     "name": "stdout",
     "output_type": "stream",
     "text": [
      "2021/03/31 のデータをクロール中\n"
     ]
    },
    {
     "data": {
      "application/vnd.jupyter.widget-view+json": {
       "model_id": "c68ddabfb1a44e818552bbceea3ef568",
       "version_major": 2,
       "version_minor": 0
      },
      "text/plain": [
       "  0%|          | 0/24 [00:00<?, ?it/s]"
      ]
     },
     "metadata": {},
     "output_type": "display_data"
    },
    {
     "name": "stdout",
     "output_type": "stream",
     "text": [
      "2020/10/23 のデータをクロール中\n"
     ]
    },
    {
     "data": {
      "application/vnd.jupyter.widget-view+json": {
       "model_id": "9c64af0b6d5b4f3eb218eee0d0a5e0bd",
       "version_major": 2,
       "version_minor": 0
      },
      "text/plain": [
       "  0%|          | 0/24 [00:00<?, ?it/s]"
      ]
     },
     "metadata": {},
     "output_type": "display_data"
    },
    {
     "name": "stdout",
     "output_type": "stream",
     "text": [
      "2021/02/05 のデータをクロール中\n"
     ]
    },
    {
     "data": {
      "application/vnd.jupyter.widget-view+json": {
       "model_id": "f9c0fdae571b455fbd1f4589bbb4abb2",
       "version_major": 2,
       "version_minor": 0
      },
      "text/plain": [
       "  0%|          | 0/24 [00:00<?, ?it/s]"
      ]
     },
     "metadata": {},
     "output_type": "display_data"
    },
    {
     "name": "stdout",
     "output_type": "stream",
     "text": [
      "Connection Reset error !\n",
      "2020/12/17 のデータをクロール中\n"
     ]
    },
    {
     "data": {
      "application/vnd.jupyter.widget-view+json": {
       "model_id": "16a506229c664b7b9ce558c0e05d9c4e",
       "version_major": 2,
       "version_minor": 0
      },
      "text/plain": [
       "  0%|          | 0/24 [00:00<?, ?it/s]"
      ]
     },
     "metadata": {},
     "output_type": "display_data"
    },
    {
     "name": "stdout",
     "output_type": "stream",
     "text": [
      "2021/01/10 のデータをクロール中\n"
     ]
    },
    {
     "data": {
      "application/vnd.jupyter.widget-view+json": {
       "model_id": "19414985dfc64b78badce768f3d02768",
       "version_major": 2,
       "version_minor": 0
      },
      "text/plain": [
       "  0%|          | 0/24 [00:00<?, ?it/s]"
      ]
     },
     "metadata": {},
     "output_type": "display_data"
    },
    {
     "name": "stdout",
     "output_type": "stream",
     "text": [
      "2020/10/02 のデータをクロール中\n"
     ]
    },
    {
     "data": {
      "application/vnd.jupyter.widget-view+json": {
       "model_id": "65db0970fa21452581e47b4909dc3db7",
       "version_major": 2,
       "version_minor": 0
      },
      "text/plain": [
       "  0%|          | 0/24 [00:00<?, ?it/s]"
      ]
     },
     "metadata": {},
     "output_type": "display_data"
    },
    {
     "name": "stdout",
     "output_type": "stream",
     "text": [
      "2021/01/29 のデータをクロール中\n"
     ]
    },
    {
     "data": {
      "application/vnd.jupyter.widget-view+json": {
       "model_id": "ba05a6ccfd5b472a89870181edf1861a",
       "version_major": 2,
       "version_minor": 0
      },
      "text/plain": [
       "  0%|          | 0/24 [00:00<?, ?it/s]"
      ]
     },
     "metadata": {},
     "output_type": "display_data"
    },
    {
     "name": "stdout",
     "output_type": "stream",
     "text": [
      "2020/11/02 のデータをクロール中\n"
     ]
    },
    {
     "data": {
      "application/vnd.jupyter.widget-view+json": {
       "model_id": "b9f707cdc06e4cc48c1e05ef073c34f6",
       "version_major": 2,
       "version_minor": 0
      },
      "text/plain": [
       "  0%|          | 0/24 [00:00<?, ?it/s]"
      ]
     },
     "metadata": {},
     "output_type": "display_data"
    },
    {
     "name": "stdout",
     "output_type": "stream",
     "text": [
      "2020/10/14 のデータをクロール中\n"
     ]
    },
    {
     "data": {
      "application/vnd.jupyter.widget-view+json": {
       "model_id": "879ab0434db943d4939b47cdb2f68b63",
       "version_major": 2,
       "version_minor": 0
      },
      "text/plain": [
       "  0%|          | 0/24 [00:00<?, ?it/s]"
      ]
     },
     "metadata": {},
     "output_type": "display_data"
    },
    {
     "name": "stdout",
     "output_type": "stream",
     "text": [
      "2020/11/12 のデータをクロール中\n"
     ]
    },
    {
     "data": {
      "application/vnd.jupyter.widget-view+json": {
       "model_id": "93dc8abca419428986e72cfc8d555615",
       "version_major": 2,
       "version_minor": 0
      },
      "text/plain": [
       "  0%|          | 0/24 [00:00<?, ?it/s]"
      ]
     },
     "metadata": {},
     "output_type": "display_data"
    },
    {
     "name": "stdout",
     "output_type": "stream",
     "text": [
      "2021/02/04 のデータをクロール中\n"
     ]
    },
    {
     "data": {
      "application/vnd.jupyter.widget-view+json": {
       "model_id": "f7961938a4a943a3860eac8f4c4612e8",
       "version_major": 2,
       "version_minor": 0
      },
      "text/plain": [
       "  0%|          | 0/24 [00:00<?, ?it/s]"
      ]
     },
     "metadata": {},
     "output_type": "display_data"
    },
    {
     "name": "stdout",
     "output_type": "stream",
     "text": [
      "2020/10/29 のデータをクロール中\n"
     ]
    },
    {
     "data": {
      "application/vnd.jupyter.widget-view+json": {
       "model_id": "ca1dd0825e8d41f7b2f38e2a8216ade9",
       "version_major": 2,
       "version_minor": 0
      },
      "text/plain": [
       "  0%|          | 0/24 [00:00<?, ?it/s]"
      ]
     },
     "metadata": {},
     "output_type": "display_data"
    },
    {
     "name": "stdout",
     "output_type": "stream",
     "text": [
      "2021/02/07 のデータをクロール中\n"
     ]
    },
    {
     "data": {
      "application/vnd.jupyter.widget-view+json": {
       "model_id": "50869a9376384ebcb85257ccbeb8aa3f",
       "version_major": 2,
       "version_minor": 0
      },
      "text/plain": [
       "  0%|          | 0/24 [00:00<?, ?it/s]"
      ]
     },
     "metadata": {},
     "output_type": "display_data"
    },
    {
     "name": "stdout",
     "output_type": "stream",
     "text": [
      "2020/11/13 のデータをクロール中\n"
     ]
    },
    {
     "data": {
      "application/vnd.jupyter.widget-view+json": {
       "model_id": "f1c83585ecf240b3977a84efcdd88cd6",
       "version_major": 2,
       "version_minor": 0
      },
      "text/plain": [
       "  0%|          | 0/24 [00:00<?, ?it/s]"
      ]
     },
     "metadata": {},
     "output_type": "display_data"
    },
    {
     "name": "stdout",
     "output_type": "stream",
     "text": [
      "2021/01/02 のデータをクロール中\n"
     ]
    },
    {
     "data": {
      "application/vnd.jupyter.widget-view+json": {
       "model_id": "00519bc8dcee425dbfe858b5c21bc856",
       "version_major": 2,
       "version_minor": 0
      },
      "text/plain": [
       "  0%|          | 0/24 [00:00<?, ?it/s]"
      ]
     },
     "metadata": {},
     "output_type": "display_data"
    },
    {
     "name": "stdout",
     "output_type": "stream",
     "text": [
      "2020/10/19 のデータをクロール中\n"
     ]
    },
    {
     "data": {
      "application/vnd.jupyter.widget-view+json": {
       "model_id": "fb20515acb3849bdb6ecc64bef580635",
       "version_major": 2,
       "version_minor": 0
      },
      "text/plain": [
       "  0%|          | 0/24 [00:00<?, ?it/s]"
      ]
     },
     "metadata": {},
     "output_type": "display_data"
    },
    {
     "name": "stdout",
     "output_type": "stream",
     "text": [
      "2020/10/25 のデータをクロール中\n"
     ]
    },
    {
     "data": {
      "application/vnd.jupyter.widget-view+json": {
       "model_id": "dfe55fe55985469eb75cfc12ccd1252a",
       "version_major": 2,
       "version_minor": 0
      },
      "text/plain": [
       "  0%|          | 0/24 [00:00<?, ?it/s]"
      ]
     },
     "metadata": {},
     "output_type": "display_data"
    },
    {
     "name": "stdout",
     "output_type": "stream",
     "text": [
      "2020/11/28 のデータをクロール中\n"
     ]
    },
    {
     "data": {
      "application/vnd.jupyter.widget-view+json": {
       "model_id": "cde2374134a24c65838774156f92aaed",
       "version_major": 2,
       "version_minor": 0
      },
      "text/plain": [
       "  0%|          | 0/24 [00:00<?, ?it/s]"
      ]
     },
     "metadata": {},
     "output_type": "display_data"
    },
    {
     "name": "stdout",
     "output_type": "stream",
     "text": [
      "2020/12/10 のデータをクロール中\n"
     ]
    },
    {
     "data": {
      "application/vnd.jupyter.widget-view+json": {
       "model_id": "6208f7dcac054029be4675019acf2128",
       "version_major": 2,
       "version_minor": 0
      },
      "text/plain": [
       "  0%|          | 0/24 [00:00<?, ?it/s]"
      ]
     },
     "metadata": {},
     "output_type": "display_data"
    },
    {
     "name": "stdout",
     "output_type": "stream",
     "text": [
      "Connection Reset error !\n",
      "2021/03/29 のデータをクロール中\n"
     ]
    },
    {
     "data": {
      "application/vnd.jupyter.widget-view+json": {
       "model_id": "80faf6907b874c769a2b190521674f11",
       "version_major": 2,
       "version_minor": 0
      },
      "text/plain": [
       "  0%|          | 0/24 [00:00<?, ?it/s]"
      ]
     },
     "metadata": {},
     "output_type": "display_data"
    },
    {
     "name": "stdout",
     "output_type": "stream",
     "text": [
      "2020/11/19 のデータをクロール中\n"
     ]
    },
    {
     "data": {
      "application/vnd.jupyter.widget-view+json": {
       "model_id": "4f453dae199f487fb014295bf997e36d",
       "version_major": 2,
       "version_minor": 0
      },
      "text/plain": [
       "  0%|          | 0/24 [00:00<?, ?it/s]"
      ]
     },
     "metadata": {},
     "output_type": "display_data"
    },
    {
     "name": "stdout",
     "output_type": "stream",
     "text": [
      "2020/10/15 のデータをクロール中\n"
     ]
    },
    {
     "data": {
      "application/vnd.jupyter.widget-view+json": {
       "model_id": "83397e092f304656a86f071bb6877f1a",
       "version_major": 2,
       "version_minor": 0
      },
      "text/plain": [
       "  0%|          | 0/24 [00:00<?, ?it/s]"
      ]
     },
     "metadata": {},
     "output_type": "display_data"
    },
    {
     "name": "stdout",
     "output_type": "stream",
     "text": [
      "2020/12/29 のデータをクロール中\n"
     ]
    },
    {
     "data": {
      "application/vnd.jupyter.widget-view+json": {
       "model_id": "67b4e1bd3acb45c3a070e5fe95de39b4",
       "version_major": 2,
       "version_minor": 0
      },
      "text/plain": [
       "  0%|          | 0/24 [00:00<?, ?it/s]"
      ]
     },
     "metadata": {},
     "output_type": "display_data"
    },
    {
     "name": "stdout",
     "output_type": "stream",
     "text": [
      "2021/03/30 のデータをクロール中\n"
     ]
    },
    {
     "data": {
      "application/vnd.jupyter.widget-view+json": {
       "model_id": "8242a4462479412aa0a7458190ec092e",
       "version_major": 2,
       "version_minor": 0
      },
      "text/plain": [
       "  0%|          | 0/24 [00:00<?, ?it/s]"
      ]
     },
     "metadata": {},
     "output_type": "display_data"
    },
    {
     "name": "stdout",
     "output_type": "stream",
     "text": [
      "2021/02/27 のデータをクロール中\n"
     ]
    },
    {
     "data": {
      "application/vnd.jupyter.widget-view+json": {
       "model_id": "e6409a9ea2be4746bbaa8fefdb7dc323",
       "version_major": 2,
       "version_minor": 0
      },
      "text/plain": [
       "  0%|          | 0/24 [00:00<?, ?it/s]"
      ]
     },
     "metadata": {},
     "output_type": "display_data"
    },
    {
     "name": "stdout",
     "output_type": "stream",
     "text": [
      "2021/01/16 のデータをクロール中\n"
     ]
    },
    {
     "data": {
      "application/vnd.jupyter.widget-view+json": {
       "model_id": "7e3a4de223d84ee8907a3c20cc45c2e1",
       "version_major": 2,
       "version_minor": 0
      },
      "text/plain": [
       "  0%|          | 0/24 [00:00<?, ?it/s]"
      ]
     },
     "metadata": {},
     "output_type": "display_data"
    },
    {
     "name": "stdout",
     "output_type": "stream",
     "text": [
      "2020/10/04 のデータをクロール中\n"
     ]
    },
    {
     "data": {
      "application/vnd.jupyter.widget-view+json": {
       "model_id": "81b292307d9f475eaaa6beb0b89d6b79",
       "version_major": 2,
       "version_minor": 0
      },
      "text/plain": [
       "  0%|          | 0/24 [00:00<?, ?it/s]"
      ]
     },
     "metadata": {},
     "output_type": "display_data"
    },
    {
     "name": "stdout",
     "output_type": "stream",
     "text": [
      "2020/11/15 のデータをクロール中\n"
     ]
    },
    {
     "data": {
      "application/vnd.jupyter.widget-view+json": {
       "model_id": "64f96d9b775b4d9d89d1761bc267cdf4",
       "version_major": 2,
       "version_minor": 0
      },
      "text/plain": [
       "  0%|          | 0/24 [00:00<?, ?it/s]"
      ]
     },
     "metadata": {},
     "output_type": "display_data"
    },
    {
     "name": "stdout",
     "output_type": "stream",
     "text": [
      "2021/01/31 のデータをクロール中\n"
     ]
    },
    {
     "data": {
      "application/vnd.jupyter.widget-view+json": {
       "model_id": "518384df21f145c5becc4b8b12cf8a41",
       "version_major": 2,
       "version_minor": 0
      },
      "text/plain": [
       "  0%|          | 0/24 [00:00<?, ?it/s]"
      ]
     },
     "metadata": {},
     "output_type": "display_data"
    },
    {
     "name": "stdout",
     "output_type": "stream",
     "text": [
      "2021/03/01 のデータをクロール中\n"
     ]
    },
    {
     "data": {
      "application/vnd.jupyter.widget-view+json": {
       "model_id": "20e47c99f07a4db39bccd3db94f88471",
       "version_major": 2,
       "version_minor": 0
      },
      "text/plain": [
       "  0%|          | 0/24 [00:00<?, ?it/s]"
      ]
     },
     "metadata": {},
     "output_type": "display_data"
    },
    {
     "name": "stdout",
     "output_type": "stream",
     "text": [
      "2021/02/24 のデータをクロール中\n"
     ]
    },
    {
     "data": {
      "application/vnd.jupyter.widget-view+json": {
       "model_id": "0238e0d2aedb48d2ae8df33582ea00ce",
       "version_major": 2,
       "version_minor": 0
      },
      "text/plain": [
       "  0%|          | 0/24 [00:00<?, ?it/s]"
      ]
     },
     "metadata": {},
     "output_type": "display_data"
    },
    {
     "name": "stdout",
     "output_type": "stream",
     "text": [
      "2021/02/06 のデータをクロール中\n"
     ]
    },
    {
     "data": {
      "application/vnd.jupyter.widget-view+json": {
       "model_id": "2382cf690e6d41dfa5d5e4ff884e5a11",
       "version_major": 2,
       "version_minor": 0
      },
      "text/plain": [
       "  0%|          | 0/24 [00:00<?, ?it/s]"
      ]
     },
     "metadata": {},
     "output_type": "display_data"
    },
    {
     "name": "stdout",
     "output_type": "stream",
     "text": [
      "Connection Reset error !\n",
      "2020/12/24 のデータをクロール中\n"
     ]
    },
    {
     "data": {
      "application/vnd.jupyter.widget-view+json": {
       "model_id": "e0721692311447b4b95b55288e20313f",
       "version_major": 2,
       "version_minor": 0
      },
      "text/plain": [
       "  0%|          | 0/24 [00:00<?, ?it/s]"
      ]
     },
     "metadata": {},
     "output_type": "display_data"
    },
    {
     "name": "stdout",
     "output_type": "stream",
     "text": [
      "Connection Reset error !\n",
      "2020/12/23 のデータをクロール中\n"
     ]
    },
    {
     "data": {
      "application/vnd.jupyter.widget-view+json": {
       "model_id": "468e2d51d3c1426bbdaca0c90f8eb25d",
       "version_major": 2,
       "version_minor": 0
      },
      "text/plain": [
       "  0%|          | 0/24 [00:00<?, ?it/s]"
      ]
     },
     "metadata": {},
     "output_type": "display_data"
    },
    {
     "name": "stdout",
     "output_type": "stream",
     "text": [
      "2021/01/22 のデータをクロール中\n"
     ]
    },
    {
     "data": {
      "application/vnd.jupyter.widget-view+json": {
       "model_id": "c57acac4a9f84bd1a6626f5c420abd66",
       "version_major": 2,
       "version_minor": 0
      },
      "text/plain": [
       "  0%|          | 0/24 [00:00<?, ?it/s]"
      ]
     },
     "metadata": {},
     "output_type": "display_data"
    },
    {
     "name": "stdout",
     "output_type": "stream",
     "text": [
      "2021/02/09 のデータをクロール中\n"
     ]
    },
    {
     "data": {
      "application/vnd.jupyter.widget-view+json": {
       "model_id": "842441ac2e4a4e79b25a4a6d287468e4",
       "version_major": 2,
       "version_minor": 0
      },
      "text/plain": [
       "  0%|          | 0/24 [00:00<?, ?it/s]"
      ]
     },
     "metadata": {},
     "output_type": "display_data"
    },
    {
     "name": "stdout",
     "output_type": "stream",
     "text": [
      "2021/03/21 のデータをクロール中\n"
     ]
    },
    {
     "data": {
      "application/vnd.jupyter.widget-view+json": {
       "model_id": "770c1d70daf64c5f9386274ebb018ffc",
       "version_major": 2,
       "version_minor": 0
      },
      "text/plain": [
       "  0%|          | 0/24 [00:00<?, ?it/s]"
      ]
     },
     "metadata": {},
     "output_type": "display_data"
    },
    {
     "name": "stdout",
     "output_type": "stream",
     "text": [
      "2021/03/28 のデータをクロール中\n"
     ]
    },
    {
     "data": {
      "application/vnd.jupyter.widget-view+json": {
       "model_id": "e946f03dc5ff433a82d19d950fd0cb8c",
       "version_major": 2,
       "version_minor": 0
      },
      "text/plain": [
       "  0%|          | 0/24 [00:00<?, ?it/s]"
      ]
     },
     "metadata": {},
     "output_type": "display_data"
    },
    {
     "name": "stdout",
     "output_type": "stream",
     "text": [
      "2021/03/27 のデータをクロール中\n"
     ]
    },
    {
     "data": {
      "application/vnd.jupyter.widget-view+json": {
       "model_id": "8d03e240397c49a98f626e75e387d00e",
       "version_major": 2,
       "version_minor": 0
      },
      "text/plain": [
       "  0%|          | 0/24 [00:00<?, ?it/s]"
      ]
     },
     "metadata": {},
     "output_type": "display_data"
    },
    {
     "name": "stdout",
     "output_type": "stream",
     "text": [
      "2020/11/03 のデータをクロール中\n"
     ]
    },
    {
     "data": {
      "application/vnd.jupyter.widget-view+json": {
       "model_id": "2c583f1c22a74b2cb6d0af8b7788a065",
       "version_major": 2,
       "version_minor": 0
      },
      "text/plain": [
       "  0%|          | 0/24 [00:00<?, ?it/s]"
      ]
     },
     "metadata": {},
     "output_type": "display_data"
    },
    {
     "name": "stdout",
     "output_type": "stream",
     "text": [
      "2021/03/02 のデータをクロール中\n"
     ]
    },
    {
     "data": {
      "application/vnd.jupyter.widget-view+json": {
       "model_id": "321f9aed34d3485aa8024ca33347a687",
       "version_major": 2,
       "version_minor": 0
      },
      "text/plain": [
       "  0%|          | 0/24 [00:00<?, ?it/s]"
      ]
     },
     "metadata": {},
     "output_type": "display_data"
    },
    {
     "name": "stdout",
     "output_type": "stream",
     "text": [
      "2021/01/17 のデータをクロール中\n"
     ]
    },
    {
     "data": {
      "application/vnd.jupyter.widget-view+json": {
       "model_id": "b06b51faeb3248e1b5af5d1caf224c06",
       "version_major": 2,
       "version_minor": 0
      },
      "text/plain": [
       "  0%|          | 0/24 [00:00<?, ?it/s]"
      ]
     },
     "metadata": {},
     "output_type": "display_data"
    },
    {
     "name": "stdout",
     "output_type": "stream",
     "text": [
      "2020/11/06 のデータをクロール中\n"
     ]
    },
    {
     "data": {
      "application/vnd.jupyter.widget-view+json": {
       "model_id": "e417ed36d04240539dbe6db193964c6d",
       "version_major": 2,
       "version_minor": 0
      },
      "text/plain": [
       "  0%|          | 0/24 [00:00<?, ?it/s]"
      ]
     },
     "metadata": {},
     "output_type": "display_data"
    },
    {
     "name": "stdout",
     "output_type": "stream",
     "text": [
      "2021/01/20 のデータをクロール中\n"
     ]
    },
    {
     "data": {
      "application/vnd.jupyter.widget-view+json": {
       "model_id": "76038e918a8c4d2fb43058292686b0a8",
       "version_major": 2,
       "version_minor": 0
      },
      "text/plain": [
       "  0%|          | 0/24 [00:00<?, ?it/s]"
      ]
     },
     "metadata": {},
     "output_type": "display_data"
    },
    {
     "name": "stdout",
     "output_type": "stream",
     "text": [
      "2021/01/25 のデータをクロール中\n"
     ]
    },
    {
     "data": {
      "application/vnd.jupyter.widget-view+json": {
       "model_id": "14b8584562c24780977ecfd08c4d5eb3",
       "version_major": 2,
       "version_minor": 0
      },
      "text/plain": [
       "  0%|          | 0/24 [00:00<?, ?it/s]"
      ]
     },
     "metadata": {},
     "output_type": "display_data"
    },
    {
     "name": "stdout",
     "output_type": "stream",
     "text": [
      "2021/01/14 のデータをクロール中\n"
     ]
    },
    {
     "data": {
      "application/vnd.jupyter.widget-view+json": {
       "model_id": "3a6ddda7515b4c7bb55abb4ee955ff61",
       "version_major": 2,
       "version_minor": 0
      },
      "text/plain": [
       "  0%|          | 0/24 [00:00<?, ?it/s]"
      ]
     },
     "metadata": {},
     "output_type": "display_data"
    },
    {
     "name": "stdout",
     "output_type": "stream",
     "text": [
      "2020/10/20 のデータをクロール中\n"
     ]
    },
    {
     "data": {
      "application/vnd.jupyter.widget-view+json": {
       "model_id": "8570b28b0bcb40af90e8b67932dca1a0",
       "version_major": 2,
       "version_minor": 0
      },
      "text/plain": [
       "  0%|          | 0/24 [00:00<?, ?it/s]"
      ]
     },
     "metadata": {},
     "output_type": "display_data"
    },
    {
     "name": "stdout",
     "output_type": "stream",
     "text": [
      "2021/02/13 のデータをクロール中\n"
     ]
    },
    {
     "data": {
      "application/vnd.jupyter.widget-view+json": {
       "model_id": "8006bb649c0b47d480335725fe195854",
       "version_major": 2,
       "version_minor": 0
      },
      "text/plain": [
       "  0%|          | 0/24 [00:00<?, ?it/s]"
      ]
     },
     "metadata": {},
     "output_type": "display_data"
    },
    {
     "name": "stdout",
     "output_type": "stream",
     "text": [
      "2021/02/21 のデータをクロール中\n"
     ]
    },
    {
     "data": {
      "application/vnd.jupyter.widget-view+json": {
       "model_id": "7b320440a1aa4b38893d06bd0b572a86",
       "version_major": 2,
       "version_minor": 0
      },
      "text/plain": [
       "  0%|          | 0/24 [00:00<?, ?it/s]"
      ]
     },
     "metadata": {},
     "output_type": "display_data"
    },
    {
     "name": "stdout",
     "output_type": "stream",
     "text": [
      "2020/12/02 のデータをクロール中\n"
     ]
    },
    {
     "data": {
      "application/vnd.jupyter.widget-view+json": {
       "model_id": "0a81ae55adce4633b8f96453a46dddce",
       "version_major": 2,
       "version_minor": 0
      },
      "text/plain": [
       "  0%|          | 0/24 [00:00<?, ?it/s]"
      ]
     },
     "metadata": {},
     "output_type": "display_data"
    },
    {
     "name": "stdout",
     "output_type": "stream",
     "text": [
      "2020/10/21 のデータをクロール中\n"
     ]
    },
    {
     "data": {
      "application/vnd.jupyter.widget-view+json": {
       "model_id": "a7d416253ee04a39ae51a330f049c437",
       "version_major": 2,
       "version_minor": 0
      },
      "text/plain": [
       "  0%|          | 0/24 [00:00<?, ?it/s]"
      ]
     },
     "metadata": {},
     "output_type": "display_data"
    },
    {
     "name": "stdout",
     "output_type": "stream",
     "text": [
      "2020/10/07 のデータをクロール中\n"
     ]
    },
    {
     "data": {
      "application/vnd.jupyter.widget-view+json": {
       "model_id": "53bdbd039f6744ceb3b7137c94ba3f51",
       "version_major": 2,
       "version_minor": 0
      },
      "text/plain": [
       "  0%|          | 0/24 [00:00<?, ?it/s]"
      ]
     },
     "metadata": {},
     "output_type": "display_data"
    },
    {
     "name": "stdout",
     "output_type": "stream",
     "text": [
      "Connection Reset error !\n",
      "2020/11/25 のデータをクロール中\n"
     ]
    },
    {
     "data": {
      "application/vnd.jupyter.widget-view+json": {
       "model_id": "e43440ffdd2a4ff59178efac5943ec1a",
       "version_major": 2,
       "version_minor": 0
      },
      "text/plain": [
       "  0%|          | 0/24 [00:00<?, ?it/s]"
      ]
     },
     "metadata": {},
     "output_type": "display_data"
    },
    {
     "name": "stdout",
     "output_type": "stream",
     "text": [
      "2020/11/20 のデータをクロール中\n"
     ]
    },
    {
     "data": {
      "application/vnd.jupyter.widget-view+json": {
       "model_id": "cb8745cb5ced48c89f6ccaaae563504d",
       "version_major": 2,
       "version_minor": 0
      },
      "text/plain": [
       "  0%|          | 0/24 [00:00<?, ?it/s]"
      ]
     },
     "metadata": {},
     "output_type": "display_data"
    },
    {
     "name": "stdout",
     "output_type": "stream",
     "text": [
      "2021/03/04 のデータをクロール中\n"
     ]
    },
    {
     "data": {
      "application/vnd.jupyter.widget-view+json": {
       "model_id": "ff74fe7c36f743a090d893f46ab8ee3c",
       "version_major": 2,
       "version_minor": 0
      },
      "text/plain": [
       "  0%|          | 0/24 [00:00<?, ?it/s]"
      ]
     },
     "metadata": {},
     "output_type": "display_data"
    },
    {
     "name": "stdout",
     "output_type": "stream",
     "text": [
      "2021/02/10 のデータをクロール中\n"
     ]
    },
    {
     "data": {
      "application/vnd.jupyter.widget-view+json": {
       "model_id": "315a72b6275246bc8719a90e96e6b714",
       "version_major": 2,
       "version_minor": 0
      },
      "text/plain": [
       "  0%|          | 0/24 [00:00<?, ?it/s]"
      ]
     },
     "metadata": {},
     "output_type": "display_data"
    },
    {
     "name": "stdout",
     "output_type": "stream",
     "text": [
      "2020/11/14 のデータをクロール中\n"
     ]
    },
    {
     "data": {
      "application/vnd.jupyter.widget-view+json": {
       "model_id": "9f9209ad496f47ccb7ceded747980cab",
       "version_major": 2,
       "version_minor": 0
      },
      "text/plain": [
       "  0%|          | 0/24 [00:00<?, ?it/s]"
      ]
     },
     "metadata": {},
     "output_type": "display_data"
    }
   ],
   "source": [
    "jcd_list =  [\"桐　生\", \"戸　田\", \"江戸川\", \"平和島\", \"多摩川\", \"浜名湖\", \"蒲　郡\", \"常　滑\",\n",
    "                \"　津　\", \"三　国\", \"びわこ\", \"住之江\", \"尼　崎\", \"鳴　門\", \"丸　亀\", \"児　島\",\n",
    "                \"宮　島\", \"徳　山\", \"下　関\", \"若　松\", \"芦　屋\", \"福　岡\", \"唐　津\", \"大　村\"\n",
    "            ]\n",
    "\n",
    "for hd in hd_list:\n",
    "    \n",
    "    win_and_pay_dict_list = []\n",
    "\n",
    "    print(\"{0} のデータをクロール中\".format(hd))\n",
    "\n",
    "    # 1日単位でデータを集めてファイルに保存する\n",
    "    today_race_df_list = []\n",
    "\n",
    "    for jcd in tqdm(jcd_list):\n",
    "        for i in range(1, 13):\n",
    "            rno = str(i) + \"R\"\n",
    "\n",
    "            # その日レースがない場所は飛ばすためのtry-except         \n",
    "            try:\n",
    "                raceResult_url = make_url(\"raceresult\", rno, jcd, hd)\n",
    "\n",
    "                # パース\n",
    "                soup = html_parser(raceResult_url)\n",
    "\n",
    "                # 対象サイトをcrawl\n",
    "                table = soup.find_all(class_=\"is-w495\")[2].find_all(\"tbody\")\n",
    "                win_and_pay_dict = {\"date\": \"-\".join([hd[0:4], hd[5:7], hd[8:10]]),\n",
    "                                    \"venue\": jcd,\n",
    "                                    \"raceNumber\": rno[:-1]\n",
    "                                   }\n",
    "\n",
    "                win_and_pay_dict[\"3連単\"] = [row.text for row in table[0].find_all(class_=re.compile(\"numberSet1_number\"))]\n",
    "                win_and_pay_dict[\"3連単odds\"] = table[0].find(class_=\"is-payout1\").text\n",
    "\n",
    "                win_and_pay_dict[\"3連複\"] = [row.text for row in table[1].find_all(class_=re.compile(\"numberSet1_number\"))]\n",
    "                win_and_pay_dict[\"3連複odds\"] = table[1].find(class_=\"is-payout1\").text\n",
    "\n",
    "                win_and_pay_dict[\"2連単\"] = [row.text for row in table[2].find_all(class_=re.compile(\"numberSet1_number\"))]\n",
    "                win_and_pay_dict[\"2連単odds\"] = table[2].find(class_=\"is-payout1\").text\n",
    "\n",
    "                win_and_pay_dict[\"2連複\"] = [row.text for row in table[3].find_all(class_=re.compile(\"numberSet1_number\"))]\n",
    "                win_and_pay_dict[\"2連複odds\"] = table[3].find(class_=\"is-payout1\").text\n",
    "\n",
    "                table_wide = table[4].find_all(\"tr\")\n",
    "                for i in range(3):\n",
    "                    row_wide = table_wide[i]\n",
    "                    win_and_pay_dict[\"拡連複_{0}\".format(i+1)] = [row.text for row in row_wide.find_all(class_=re.compile(\"numberSet1_number\"))]\n",
    "                    win_and_pay_dict[\"拡連複odds_{0}\".format(i+1)] = row_wide.find(class_=\"is-payout1\").text\n",
    "\n",
    "                win_and_pay_dict[\"単勝\"] = table[5].find(class_=re.compile(\"numberSet1_number\")).text\n",
    "                win_and_pay_dict[\"単勝odds\"] = table[5].find(class_=\"is-payout1\").text\n",
    "\n",
    "                table_place = table[6].find_all(\"tr\")\n",
    "                for i in range(2):\n",
    "                    row_place = table_place[i]\n",
    "                    win_and_pay_dict[\"複勝_{0}\".format(i+1)] = row_place.find(class_=re.compile(\"numberSet1_number\")).text\n",
    "                    win_and_pay_dict[\"複勝odds_{0}\".format(i+1)] = row_place.find(class_=\"is-payout1\").text\n",
    "                    \n",
    "                # 今回のレースのデータを本日のデータを集めたリストに格納\n",
    "                win_and_pay_dict_list.append(win_and_pay_dict)\n",
    "\n",
    "            except IndexError:\n",
    "                # print(hd + \" \" + jcd + rno +\"データなし\")\n",
    "                pass\n",
    "            except AttributeError:\n",
    "                pass\n",
    "\n",
    "    # dictを入れたlistをdfに変換\n",
    "    win_and_pay_df = pd.DataFrame.from_dict(win_and_pay_dict_list)\n",
    "    win_and_pay_df.set_index([\"date\", \"venue\", \"raceNumber\"], inplace=True)\n",
    "\n",
    "    # pickleファイルで保存\n",
    "    win_and_pay_df.to_pickle('../../data/crawledData/win_and_pay/{0}.pkl'.format(\"\".join(hd.split(\"/\"))))"
   ]
  },
  {
   "cell_type": "code",
   "execution_count": 5,
   "metadata": {},
   "outputs": [
    {
     "data": {
      "text/html": [
       "<div>\n",
       "<style scoped>\n",
       "    .dataframe tbody tr th:only-of-type {\n",
       "        vertical-align: middle;\n",
       "    }\n",
       "\n",
       "    .dataframe tbody tr th {\n",
       "        vertical-align: top;\n",
       "    }\n",
       "\n",
       "    .dataframe thead th {\n",
       "        text-align: right;\n",
       "    }\n",
       "</style>\n",
       "<table border=\"1\" class=\"dataframe\">\n",
       "  <thead>\n",
       "    <tr style=\"text-align: right;\">\n",
       "      <th></th>\n",
       "      <th></th>\n",
       "      <th></th>\n",
       "      <th>3連単</th>\n",
       "      <th>3連単odds</th>\n",
       "      <th>3連複</th>\n",
       "      <th>3連複odds</th>\n",
       "      <th>2連単</th>\n",
       "      <th>2連単odds</th>\n",
       "      <th>2連複</th>\n",
       "      <th>2連複odds</th>\n",
       "      <th>拡連複_1</th>\n",
       "      <th>拡連複odds_1</th>\n",
       "      <th>拡連複_2</th>\n",
       "      <th>拡連複odds_2</th>\n",
       "      <th>拡連複_3</th>\n",
       "      <th>拡連複odds_3</th>\n",
       "      <th>単勝</th>\n",
       "      <th>単勝odds</th>\n",
       "      <th>複勝_1</th>\n",
       "      <th>複勝odds_1</th>\n",
       "      <th>複勝_2</th>\n",
       "      <th>複勝odds_2</th>\n",
       "    </tr>\n",
       "    <tr>\n",
       "      <th>date</th>\n",
       "      <th>venue</th>\n",
       "      <th>raceNumber</th>\n",
       "      <th></th>\n",
       "      <th></th>\n",
       "      <th></th>\n",
       "      <th></th>\n",
       "      <th></th>\n",
       "      <th></th>\n",
       "      <th></th>\n",
       "      <th></th>\n",
       "      <th></th>\n",
       "      <th></th>\n",
       "      <th></th>\n",
       "      <th></th>\n",
       "      <th></th>\n",
       "      <th></th>\n",
       "      <th></th>\n",
       "      <th></th>\n",
       "      <th></th>\n",
       "      <th></th>\n",
       "      <th></th>\n",
       "      <th></th>\n",
       "    </tr>\n",
       "  </thead>\n",
       "  <tbody>\n",
       "    <tr>\n",
       "      <th rowspan=\"11\" valign=\"top\">2020-11-14</th>\n",
       "      <th rowspan=\"5\" valign=\"top\">戸　田</th>\n",
       "      <th>1</th>\n",
       "      <td>[1, 2, 3]</td>\n",
       "      <td>¥1,200</td>\n",
       "      <td>[1, 2, 3]</td>\n",
       "      <td>¥480</td>\n",
       "      <td>[1, 2]</td>\n",
       "      <td>¥450</td>\n",
       "      <td>[1, 2]</td>\n",
       "      <td>¥410</td>\n",
       "      <td>[1, 2]</td>\n",
       "      <td>¥260</td>\n",
       "      <td>[1, 3]</td>\n",
       "      <td>¥210</td>\n",
       "      <td>[2, 3]</td>\n",
       "      <td>¥570</td>\n",
       "      <td>1</td>\n",
       "      <td>¥250</td>\n",
       "      <td>1</td>\n",
       "      <td>¥120</td>\n",
       "      <td>2</td>\n",
       "      <td>¥150</td>\n",
       "    </tr>\n",
       "    <tr>\n",
       "      <th>2</th>\n",
       "      <td>[1, 5, 2]</td>\n",
       "      <td>¥9,220</td>\n",
       "      <td>[1, 2, 5]</td>\n",
       "      <td>¥1,740</td>\n",
       "      <td>[1, 5]</td>\n",
       "      <td>¥2,620</td>\n",
       "      <td>[1, 5]</td>\n",
       "      <td>¥1,300</td>\n",
       "      <td>[1, 5]</td>\n",
       "      <td>¥210</td>\n",
       "      <td>[1, 2]</td>\n",
       "      <td>¥220</td>\n",
       "      <td>[2, 5]</td>\n",
       "      <td>¥210</td>\n",
       "      <td>1</td>\n",
       "      <td>¥240</td>\n",
       "      <td>1</td>\n",
       "      <td>¥260</td>\n",
       "      <td>5</td>\n",
       "      <td>¥290</td>\n",
       "    </tr>\n",
       "    <tr>\n",
       "      <th>3</th>\n",
       "      <td>[3, 1, 5]</td>\n",
       "      <td>¥43,040</td>\n",
       "      <td>[1, 3, 5]</td>\n",
       "      <td>¥10,470</td>\n",
       "      <td>[3, 1]</td>\n",
       "      <td>¥2,410</td>\n",
       "      <td>[1, 3]</td>\n",
       "      <td>¥820</td>\n",
       "      <td>[1, 3]</td>\n",
       "      <td>¥200</td>\n",
       "      <td>[3, 5]</td>\n",
       "      <td>¥1,380</td>\n",
       "      <td>[1, 5]</td>\n",
       "      <td>¥270</td>\n",
       "      <td>3</td>\n",
       "      <td>¥550</td>\n",
       "      <td>3</td>\n",
       "      <td>¥160</td>\n",
       "      <td>1</td>\n",
       "      <td>¥170</td>\n",
       "    </tr>\n",
       "    <tr>\n",
       "      <th>4</th>\n",
       "      <td>[4, 3, 5]</td>\n",
       "      <td>¥10,560</td>\n",
       "      <td>[3, 4, 5]</td>\n",
       "      <td>¥1,140</td>\n",
       "      <td>[4, 3]</td>\n",
       "      <td>¥4,970</td>\n",
       "      <td>[3, 4]</td>\n",
       "      <td>¥1,480</td>\n",
       "      <td>[3, 4]</td>\n",
       "      <td>¥430</td>\n",
       "      <td>[4, 5]</td>\n",
       "      <td>¥460</td>\n",
       "      <td>[3, 5]</td>\n",
       "      <td>¥190</td>\n",
       "      <td>4</td>\n",
       "      <td>¥1,020</td>\n",
       "      <td>4</td>\n",
       "      <td>¥240</td>\n",
       "      <td>3</td>\n",
       "      <td>¥150</td>\n",
       "    </tr>\n",
       "    <tr>\n",
       "      <th>5</th>\n",
       "      <td>[3, 1, 4]</td>\n",
       "      <td>¥5,580</td>\n",
       "      <td>[1, 3, 4]</td>\n",
       "      <td>¥1,510</td>\n",
       "      <td>[3, 1]</td>\n",
       "      <td>¥1,300</td>\n",
       "      <td>[1, 3]</td>\n",
       "      <td>¥760</td>\n",
       "      <td>[1, 3]</td>\n",
       "      <td>¥340</td>\n",
       "      <td>[3, 4]</td>\n",
       "      <td>¥360</td>\n",
       "      <td>[1, 4]</td>\n",
       "      <td>¥680</td>\n",
       "      <td>3</td>\n",
       "      <td>¥260</td>\n",
       "      <td>3</td>\n",
       "      <td>¥200</td>\n",
       "      <td>1</td>\n",
       "      <td>¥170</td>\n",
       "    </tr>\n",
       "    <tr>\n",
       "      <th>...</th>\n",
       "      <th>...</th>\n",
       "      <td>...</td>\n",
       "      <td>...</td>\n",
       "      <td>...</td>\n",
       "      <td>...</td>\n",
       "      <td>...</td>\n",
       "      <td>...</td>\n",
       "      <td>...</td>\n",
       "      <td>...</td>\n",
       "      <td>...</td>\n",
       "      <td>...</td>\n",
       "      <td>...</td>\n",
       "      <td>...</td>\n",
       "      <td>...</td>\n",
       "      <td>...</td>\n",
       "      <td>...</td>\n",
       "      <td>...</td>\n",
       "      <td>...</td>\n",
       "      <td>...</td>\n",
       "      <td>...</td>\n",
       "      <td>...</td>\n",
       "    </tr>\n",
       "    <tr>\n",
       "      <th rowspan=\"5\" valign=\"top\">大　村</th>\n",
       "      <th>8</th>\n",
       "      <td>[6, 1, 2]</td>\n",
       "      <td>¥4,750</td>\n",
       "      <td>[1, 2, 6]</td>\n",
       "      <td>¥440</td>\n",
       "      <td>[6, 1]</td>\n",
       "      <td>¥920</td>\n",
       "      <td>[1, 6]</td>\n",
       "      <td>¥250</td>\n",
       "      <td>[1, 6]</td>\n",
       "      <td>¥130</td>\n",
       "      <td>[2, 6]</td>\n",
       "      <td>¥390</td>\n",
       "      <td>[1, 2]</td>\n",
       "      <td>¥150</td>\n",
       "      <td>6</td>\n",
       "      <td>¥510</td>\n",
       "      <td>6</td>\n",
       "      <td>¥140</td>\n",
       "      <td>1</td>\n",
       "      <td>¥100</td>\n",
       "    </tr>\n",
       "    <tr>\n",
       "      <th>9</th>\n",
       "      <td>[1, 3, 4]</td>\n",
       "      <td>¥1,000</td>\n",
       "      <td>[1, 3, 4]</td>\n",
       "      <td>¥640</td>\n",
       "      <td>[1, 3]</td>\n",
       "      <td>¥360</td>\n",
       "      <td>[1, 3]</td>\n",
       "      <td>¥350</td>\n",
       "      <td>[1, 3]</td>\n",
       "      <td>¥240</td>\n",
       "      <td>[1, 4]</td>\n",
       "      <td>¥260</td>\n",
       "      <td>[3, 4]</td>\n",
       "      <td>¥510</td>\n",
       "      <td>1</td>\n",
       "      <td>¥120</td>\n",
       "      <td>1</td>\n",
       "      <td>¥100</td>\n",
       "      <td>3</td>\n",
       "      <td>¥160</td>\n",
       "    </tr>\n",
       "    <tr>\n",
       "      <th>10</th>\n",
       "      <td>[1, 2, 5]</td>\n",
       "      <td>¥1,280</td>\n",
       "      <td>[1, 2, 5]</td>\n",
       "      <td>¥810</td>\n",
       "      <td>[1, 2]</td>\n",
       "      <td>¥190</td>\n",
       "      <td>[1, 2]</td>\n",
       "      <td>¥150</td>\n",
       "      <td>[1, 2]</td>\n",
       "      <td>¥150</td>\n",
       "      <td>[1, 5]</td>\n",
       "      <td>¥260</td>\n",
       "      <td>[2, 5]</td>\n",
       "      <td>¥630</td>\n",
       "      <td>1</td>\n",
       "      <td>¥110</td>\n",
       "      <td>1</td>\n",
       "      <td>¥100</td>\n",
       "      <td>2</td>\n",
       "      <td>¥100</td>\n",
       "    </tr>\n",
       "    <tr>\n",
       "      <th>11</th>\n",
       "      <td>[1, 3, 2]</td>\n",
       "      <td>¥1,080</td>\n",
       "      <td>[1, 2, 3]</td>\n",
       "      <td>¥390</td>\n",
       "      <td>[1, 3]</td>\n",
       "      <td>¥330</td>\n",
       "      <td>[1, 3]</td>\n",
       "      <td>¥210</td>\n",
       "      <td>[1, 3]</td>\n",
       "      <td>¥180</td>\n",
       "      <td>[1, 2]</td>\n",
       "      <td>¥240</td>\n",
       "      <td>[2, 3]</td>\n",
       "      <td>¥250</td>\n",
       "      <td>1</td>\n",
       "      <td>¥100</td>\n",
       "      <td>1</td>\n",
       "      <td>¥100</td>\n",
       "      <td>3</td>\n",
       "      <td>¥280</td>\n",
       "    </tr>\n",
       "    <tr>\n",
       "      <th>12</th>\n",
       "      <td>[1, 3, 4]</td>\n",
       "      <td>¥730</td>\n",
       "      <td>[1, 3, 4]</td>\n",
       "      <td>¥380</td>\n",
       "      <td>[1, 3]</td>\n",
       "      <td>¥320</td>\n",
       "      <td>[1, 3]</td>\n",
       "      <td>¥280</td>\n",
       "      <td>[1, 3]</td>\n",
       "      <td>¥120</td>\n",
       "      <td>[1, 4]</td>\n",
       "      <td>¥140</td>\n",
       "      <td>[3, 4]</td>\n",
       "      <td>¥290</td>\n",
       "      <td>1</td>\n",
       "      <td>¥130</td>\n",
       "      <td>1</td>\n",
       "      <td>¥100</td>\n",
       "      <td>3</td>\n",
       "      <td>¥140</td>\n",
       "    </tr>\n",
       "  </tbody>\n",
       "</table>\n",
       "<p>156 rows × 20 columns</p>\n",
       "</div>"
      ],
      "text/plain": [
       "                                   3連単  3連単odds        3連複  3連複odds     2連単  \\\n",
       "date       venue raceNumber                                                   \n",
       "2020-11-14 戸　田   1           [1, 2, 3]   ¥1,200  [1, 2, 3]     ¥480  [1, 2]   \n",
       "                 2           [1, 5, 2]   ¥9,220  [1, 2, 5]   ¥1,740  [1, 5]   \n",
       "                 3           [3, 1, 5]  ¥43,040  [1, 3, 5]  ¥10,470  [3, 1]   \n",
       "                 4           [4, 3, 5]  ¥10,560  [3, 4, 5]   ¥1,140  [4, 3]   \n",
       "                 5           [3, 1, 4]   ¥5,580  [1, 3, 4]   ¥1,510  [3, 1]   \n",
       "...                                ...      ...        ...      ...     ...   \n",
       "           大　村   8           [6, 1, 2]   ¥4,750  [1, 2, 6]     ¥440  [6, 1]   \n",
       "                 9           [1, 3, 4]   ¥1,000  [1, 3, 4]     ¥640  [1, 3]   \n",
       "                 10          [1, 2, 5]   ¥1,280  [1, 2, 5]     ¥810  [1, 2]   \n",
       "                 11          [1, 3, 2]   ¥1,080  [1, 2, 3]     ¥390  [1, 3]   \n",
       "                 12          [1, 3, 4]     ¥730  [1, 3, 4]     ¥380  [1, 3]   \n",
       "\n",
       "                            2連単odds     2連複 2連複odds   拡連複_1 拡連複odds_1   拡連複_2  \\\n",
       "date       venue raceNumber                                                     \n",
       "2020-11-14 戸　田   1             ¥450  [1, 2]    ¥410  [1, 2]      ¥260  [1, 3]   \n",
       "                 2           ¥2,620  [1, 5]  ¥1,300  [1, 5]      ¥210  [1, 2]   \n",
       "                 3           ¥2,410  [1, 3]    ¥820  [1, 3]      ¥200  [3, 5]   \n",
       "                 4           ¥4,970  [3, 4]  ¥1,480  [3, 4]      ¥430  [4, 5]   \n",
       "                 5           ¥1,300  [1, 3]    ¥760  [1, 3]      ¥340  [3, 4]   \n",
       "...                             ...     ...     ...     ...       ...     ...   \n",
       "           大　村   8             ¥920  [1, 6]    ¥250  [1, 6]      ¥130  [2, 6]   \n",
       "                 9             ¥360  [1, 3]    ¥350  [1, 3]      ¥240  [1, 4]   \n",
       "                 10            ¥190  [1, 2]    ¥150  [1, 2]      ¥150  [1, 5]   \n",
       "                 11            ¥330  [1, 3]    ¥210  [1, 3]      ¥180  [1, 2]   \n",
       "                 12            ¥320  [1, 3]    ¥280  [1, 3]      ¥120  [1, 4]   \n",
       "\n",
       "                            拡連複odds_2   拡連複_3 拡連複odds_3 単勝  単勝odds 複勝_1  \\\n",
       "date       venue raceNumber                                               \n",
       "2020-11-14 戸　田   1               ¥210  [2, 3]      ¥570  1    ¥250    1   \n",
       "                 2               ¥220  [2, 5]      ¥210  1    ¥240    1   \n",
       "                 3             ¥1,380  [1, 5]      ¥270  3    ¥550    3   \n",
       "                 4               ¥460  [3, 5]      ¥190  4  ¥1,020    4   \n",
       "                 5               ¥360  [1, 4]      ¥680  3    ¥260    3   \n",
       "...                               ...     ...       ... ..     ...  ...   \n",
       "           大　村   8               ¥390  [1, 2]      ¥150  6    ¥510    6   \n",
       "                 9               ¥260  [3, 4]      ¥510  1    ¥120    1   \n",
       "                 10              ¥260  [2, 5]      ¥630  1    ¥110    1   \n",
       "                 11              ¥240  [2, 3]      ¥250  1    ¥100    1   \n",
       "                 12              ¥140  [3, 4]      ¥290  1    ¥130    1   \n",
       "\n",
       "                            複勝odds_1 複勝_2 複勝odds_2  \n",
       "date       venue raceNumber                         \n",
       "2020-11-14 戸　田   1              ¥120    2     ¥150  \n",
       "                 2              ¥260    5     ¥290  \n",
       "                 3              ¥160    1     ¥170  \n",
       "                 4              ¥240    3     ¥150  \n",
       "                 5              ¥200    1     ¥170  \n",
       "...                              ...  ...      ...  \n",
       "           大　村   8              ¥140    1     ¥100  \n",
       "                 9              ¥100    3     ¥160  \n",
       "                 10             ¥100    2     ¥100  \n",
       "                 11             ¥100    3     ¥280  \n",
       "                 12             ¥100    3     ¥140  \n",
       "\n",
       "[156 rows x 20 columns]"
      ]
     },
     "execution_count": 5,
     "metadata": {},
     "output_type": "execute_result"
    }
   ],
   "source": [
    "win_and_pay_df = pd.DataFrame.from_dict(win_and_pay_dict_list)\n",
    "win_and_pay_df.set_index([\"date\", \"venue\", \"raceNumber\"], inplace=True)\n",
    "win_and_pay_df"
   ]
  }
 ],
 "metadata": {
  "kernelspec": {
   "display_name": "Python 3",
   "language": "python",
   "name": "python3"
  },
  "language_info": {
   "codemirror_mode": {
    "name": "ipython",
    "version": 3
   },
   "file_extension": ".py",
   "mimetype": "text/x-python",
   "name": "python",
   "nbconvert_exporter": "python",
   "pygments_lexer": "ipython3",
   "version": "3.8.8"
  }
 },
 "nbformat": 4,
 "nbformat_minor": 4
}
