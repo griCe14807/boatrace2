{
 "cells": [
  {
   "cell_type": "markdown",
   "metadata": {},
   "source": [
    "# ボートレースのレース情報をクロールしpickleファイルに保存"
   ]
  },
  {
   "cell_type": "code",
   "execution_count": 1,
   "metadata": {},
   "outputs": [],
   "source": [
    "from datetime import datetime\n",
    "from datetime import timedelta\n",
    "from http.client import RemoteDisconnected\n",
    "from bs4 import BeautifulSoup\n",
    "import urllib.request\n",
    "import time\n",
    "import pandas as pd\n",
    "import numpy as np\n",
    "import re\n",
    "from tqdm.notebook import tqdm"
   ]
  },
  {
   "cell_type": "markdown",
   "metadata": {},
   "source": [
    "## 1. モジュールをロード\n",
    "### 1.1 web pageから情報を取ってきてpandas dfに格納するモジュール\n",
    "#### 1.1.1 出走表のページからスクレイプするモジュール\n",
    "- 例：https://boatrace.jp/owpc/pc/race/racelist?rno=11&jcd=15&hd=20210224"
   ]
  },
  {
   "cell_type": "code",
   "execution_count": 2,
   "metadata": {},
   "outputs": [],
   "source": [
    "def scrape_racelist(soup, rno, jcd, hd):\n",
    "    \"\"\"\n",
    "    racelistのページに書かれている情報をクロール\n",
    "    :return:\n",
    "    \"\"\"\n",
    "    table = soup.find(class_=\"contentsFrame1_inner\").find_all(class_=\"table1\")[1]\n",
    "    rows = table.find_all(\"tbody\", {\"class\": \"is-fs12\"})\n",
    "    \n",
    "    race_result_dict_list = []\n",
    "    \n",
    "    for i, row in enumerate(rows, 1):\n",
    "        race_result_dict = {\"date\": \"-\".join([hd[0:4], hd[5:7], hd[8:10]]),\n",
    "                            \"venue\": jcd, \"raceNumber\": rno[:-1]\n",
    "                           }\n",
    "        # 枠\n",
    "        race_result_dict[\"枠\"] = i\n",
    "        # racer id\n",
    "        race_result_dict[\"racer_id\"] = row.find(class_=\"is-fs11\").text.split(\"\\n\")[1][-6:-2]\n",
    "        race_result_dict[\"racer_class\"] = row.find(class_=\"is-fs11\").text.split(\"\\n\")[2][-2:]\n",
    "\n",
    "        # 選手名。最後の[1:-1]は改行を削除するため\n",
    "        racer_name = row.find(class_=\"is-fs18 is-fBold\").text[1:-1]\n",
    "        \n",
    "        # race_result_listの要素としてクロールした結果のリストを追加\n",
    "        race_result_dict[\"racer_name\"] = racer_name\n",
    "\n",
    "        # racer data\n",
    "        racer_column_3 = row.find_all(\"td\", {\"class\": \"is-lineH2\"})[0].text.split(\"\\n\")\n",
    "        race_result_dict[\"num_false_start\"] = racer_column_3[1][-3:-1]\n",
    "        race_result_dict[\"num_late_start\"] = racer_column_3[2][-3:-1]\n",
    "\n",
    "        # crawl motor data\n",
    "        motor_column = row.find_all(\"td\", {\"class\": \"is-lineH2\"})[3].text.split(\"\\n\")\n",
    "        race_result_dict[\"motorNo\"] = motor_column[1][-4:-1]\n",
    "        race_result_dict[\"モーター2連率\"] = motor_column[2][-7:-1]\n",
    "        race_result_dict[\"モーター3連率\"] = motor_column[3][-7:-1]\n",
    "\n",
    "        # crawl boat data\n",
    "        boat_column = row.find_all(\"td\", {\"class\": \"is-lineH2\"})[4].text.split(\"\\n\")\n",
    "        race_result_dict[\"boatNo\"] = boat_column[1][-4:-1]\n",
    "        race_result_dict[\"ボート2連率\"] = boat_column[2][-7:-1]\n",
    "        race_result_dict[\"ボート3連率\"] = boat_column[3][-7:-1]\n",
    "        \n",
    "        race_result_dict_list.append(race_result_dict)\n",
    "        \n",
    "    # dictをdfに変換\n",
    "    race_result_df = pd.DataFrame.from_dict(race_result_dict_list)\n",
    "\n",
    "    time.sleep(0.1)\n",
    "\n",
    "    return race_result_df"
   ]
  },
  {
   "cell_type": "markdown",
   "metadata": {},
   "source": [
    "#### 1.1.2 直前情報のページからスクレイプするモジュール\n",
    "- 例：https://boatrace.jp/owpc/pc/race/beforeinfo?rno=11&jcd=15&hd=20210224"
   ]
  },
  {
   "cell_type": "code",
   "execution_count": 3,
   "metadata": {},
   "outputs": [],
   "source": [
    "def scrape_beforeinfo(soup, rno, jcd, hd):\n",
    "    \"\"\"\n",
    "    exhibitionの情報など、直前情報ページに書かれている情報をクロール\n",
    "    :param soup:\n",
    "    :param rno:\n",
    "    :param jcd:\n",
    "    :param hd:\n",
    "    :return:\n",
    "\n",
    "    # TODO: プロペラ\n",
    "    # TODO: 部品交換\n",
    "    # TODO: 前走成績\n",
    "    # TODO: 調整重量 (adjustment weight) (kg)\n",
    "    # TODO: 風向き\n",
    "\n",
    "    \"\"\"\n",
    "    race_result_dict_list = []\n",
    "    \n",
    "    table = soup.find(class_=\"contentsFrame1_inner\").find_all(class_=\"table1\")[1]\n",
    "    rows = table.find_all(\"tbody\", {\"class\": \"is-fs12\"})\n",
    "        \n",
    "    for i, row in enumerate(rows, 1):\n",
    "        \n",
    "        race_result_dict = {\"date\": \"-\".join([hd[0:4], hd[5:7], hd[8:10]]),\n",
    "                        \"venue\": jcd,\n",
    "                        \"raceNumber\": rno[:-1]\n",
    "                        }\n",
    "        # 枠\n",
    "        race_result_dict[\"枠\"] = i\n",
    "        \n",
    "        # 水面気象情報\n",
    "        table3 = soup.find(class_=\"contentsFrame1_inner\").find(class_=\"weather1\")\n",
    "        weather_data = (table3.find_all(class_=\"weather1_bodyUnitLabelData\"))\n",
    "        weather_string = table3.find_all(class_=\"weather1_bodyUnitLabelTitle\")\n",
    "\n",
    "        race_result_dict[\"temperature\"] = weather_data[0].text[:-1]\n",
    "        race_result_dict[\"weather\"] = weather_string[1].text\n",
    "        race_result_dict[\"wind_speed\"] = weather_data[1].text[:-1]\n",
    "        race_result_dict[\"water_temperature\"] = weather_data[2].text[:-1]\n",
    "        race_result_dict[\"wave_height\"] = weather_data[3].text[:-2]\n",
    "\n",
    "        # racer weight (kg)\n",
    "        # 書いていないことがあり、その場合エラーになる\n",
    "        race_result_dict[\"weight\"] = row.find(\"td\", {\"rowspan\": \"2\"}).text[:-2]\n",
    "\n",
    "        # 展示タイム\n",
    "        race_result_dict[\"exhibitionTime\"] = row.find_all(\"td\", {\"rowspan\": \"4\"})[3].text\n",
    "\n",
    "        # チルト角度\n",
    "        race_result_dict[\"tilt\"] = row.find_all(\"td\", {\"rowspan\": \"4\"})[4].text\n",
    "        \n",
    "        # 最初に定義したリストに辞書型のデータを追加\n",
    "        race_result_dict_list.append(race_result_dict)\n",
    "\n",
    "    # dictを入れたlistをdfに変換\n",
    "    beforeinfo_df_1 = pd.DataFrame.from_dict(race_result_dict_list)\n",
    "    \n",
    "    \n",
    "    # 展示競争のコース・スタートタイムをクロール\n",
    "    race_result_dict_list_2 = []\n",
    "    exhibition_start_rows = soup.find(class_=\"is-w238\").find(class_=\"is-p10-0\").find_all(\"tr\")\n",
    "    \n",
    "    for i, exhibition_start_row in enumerate(exhibition_start_rows, 1):\n",
    "        \n",
    "        race_result_dict_2 = {}\n",
    "        race_result_dict_2[\"exhibition_cource\"] = i\n",
    "        race_result_dict_2[\"枠\"] = int(exhibition_start_row.find(class_=re.compile(\"table1_boatImage1Number\")).text)\n",
    "        race_result_dict_2[\"exhibition_start_time\"] = exhibition_start_row.find(class_=\"table1_boatImage1Time\").text\n",
    "        \n",
    "        race_result_dict_list_2.append(race_result_dict_2)\n",
    "    \n",
    "    # dictを入れたlistをdfに変換\n",
    "    beforeinfo_df_2 = pd.DataFrame.from_dict(race_result_dict_list_2)\n",
    "    \n",
    "    \n",
    "    # df_1とdf_2を枠番をkeyにしてマージ\n",
    "    beforeinfo_df = pd.merge(beforeinfo_df_1, beforeinfo_df_2, on=\"枠\")\n",
    "\n",
    "    time.sleep(0.1)\n",
    "\n",
    "    return beforeinfo_df"
   ]
  },
  {
   "cell_type": "markdown",
   "metadata": {},
   "source": [
    "#### 1.1.3 レース結果のページからスクレイプするモジュール\n",
    "- 例：https://boatrace.jp/owpc/pc/race/raceresult?rno=11&jcd=15&hd=20210224"
   ]
  },
  {
   "cell_type": "code",
   "execution_count": 4,
   "metadata": {},
   "outputs": [],
   "source": [
    "def scrape_raceresult(soup, rno, jcd, hd):\n",
    "    \n",
    "    race_result_dict_list = []\n",
    "    \n",
    "    table = soup.find(class_=\"contentsFrame1_inner\").find_all(class_=\"table1\")[1]\n",
    "    rows = table.find_all(\"tbody\")\n",
    "        \n",
    "    for row in rows:\n",
    "        race_result_dict = {\"date\": \"-\".join([hd[0:4], hd[5:7], hd[8:10]]),\n",
    "                            \"venue\": jcd,\n",
    "                            \"raceNumber\": rno[:-1]\n",
    "                            }\n",
    "        race_result_dict[\"着順\"] = row.find_all(\"td\")[0].text\n",
    "        # 枠番はintegerにしておかないとconcatした時に別の行として扱われてしまう\n",
    "        race_result_dict[\"枠\"] = int(row.find_all(\"td\")[1].text)\n",
    "        race_result_dict[\"タイム\"] = row.find_all(\"td\")[3].text\n",
    "                \n",
    "        # 最初に定義したリストに辞書型のデータを追加\n",
    "        race_result_dict_list.append(race_result_dict)\n",
    "    \n",
    "    # dictを入れたlistをdfに変換\n",
    "    raceresult_df_1 = pd.DataFrame.from_dict(race_result_dict_list)\n",
    "    raceresult_df_1 = raceresult_df_1.set_index([\"date\", \"venue\", \"raceNumber\", \"枠\"])\n",
    "\n",
    "    # start timeについてクロール\n",
    "    race_result_dict_list_2 = []\n",
    "    \n",
    "    table_2 = soup.find(class_=\"contentsFrame1_inner\").find_all(class_=\"table1\")[2]\n",
    "    rows_start_time = table_2.find_all(class_=\"table1_boatImage1TimeInner\")\n",
    "    rows_cource = table_2.find_all(class_=re.compile(\"table1_boatImage1Number is-type\"))\n",
    "\n",
    "    for i, row_start_time, row_cource in zip(range(1, 7), rows_start_time, rows_cource):\n",
    "        race_result_dict_2 = {\"date\": \"-\".join([hd[0:4], hd[5:7], hd[8:10]]),\n",
    "                            \"venue\": jcd,\n",
    "                            \"raceNumber\": rno[:-1]\n",
    "                            }\n",
    "        \n",
    "        race_result_dict_2[\"進入コース\"] = i\n",
    "        race_result_dict_2[\"枠\"] = int(row_cource.text)\n",
    "\n",
    "        # false lateスタートがあった時のtry-except\n",
    "        try:\n",
    "            race_result_dict_2[\"start_time\"] = float(row_start_time.text.split()[0])\n",
    "        except ValueError:\n",
    "            race_result_dict_2[\"start_time\"] = np.nan\n",
    "        \n",
    "        # 最初に定義したリストに辞書型のデータを追加\n",
    "        race_result_dict_list_2.append(race_result_dict_2)\n",
    "    \n",
    "    # dictを入れたlistをdfに変換\n",
    "    raceresult_df_2 = pd.DataFrame.from_dict(race_result_dict_list_2)\n",
    "    raceresult_df_2 = raceresult_df_2.set_index([\"date\", \"venue\", \"raceNumber\", \"枠\"])\n",
    "    \n",
    "    raceresult_df = pd.merge(raceresult_df_1, raceresult_df_2, how=\"left\", left_index=True, right_index=True)\n",
    "    \n",
    "    raceresult_df.reset_index(inplace=True)\n",
    "    \n",
    "    time.sleep(0.1)\n",
    "\n",
    "    return raceresult_df"
   ]
  },
  {
   "cell_type": "markdown",
   "metadata": {},
   "source": [
    "### 1.2 そのほかcrawl, scrapeに必要なモジュール"
   ]
  },
  {
   "cell_type": "code",
   "execution_count": 5,
   "metadata": {},
   "outputs": [],
   "source": [
    "def make_url(crawl_key, rno, jcd, hd):\n",
    "    \"\"\"\n",
    "    :param crawl_key: 何をcrawleするか。選択肢は、\"odds3t\"（オッズ）, \"racelist\"(出走表）,\n",
    "    \"beforeinfo\" (直前情報）もしくは\"raceresult\" (レース結果)\n",
    "    :param rno: レース番号。8Rなど、1-12の数字 + R をstrで\n",
    "    :param jcd: 会場名。\"桐　生\"、\"びわこ\"など\n",
    "    :param hd: holding day (レース開催日)、2019/03/28などyyyy/mm/ddの形で入力（strで）\n",
    "    :return dds_url: 公式サイト最終オッズが書かれているページのurl. これを使ってcrawlする\n",
    "    \"\"\"\n",
    "    jcd_dict =  {\"桐　生\": \"01\", \"戸　田\": \"02\", \"江戸川\": \"03\", \"平和島\": \"04\", \"多摩川\": \"05\", \"浜名湖\": \"06\", \"蒲　郡\": \"07\", \"常　滑\": \"08\",\n",
    "                \"　津　\": \"09\", \"三　国\": \"10\", \"びわこ\": \"11\", \"住之江\": \"12\", \"尼　崎\": \"13\", \"鳴　門\": \"14\", \"丸　亀\": \"15\", \"児　島\": \"16\",\n",
    "                \"宮　島\": \"17\", \"徳　山\": \"18\", \"下　関\": \"19\", \"若　松\": \"20\", \"芦　屋\": \"21\", \"福　岡\": \"22\", \"唐　津\": \"23\", \"大　村\": \"24\"\n",
    "                }\n",
    "    rno = rno[:-1]\n",
    "    hd = hd[0:4] + hd[5:7] + hd[8:10]\n",
    "\n",
    "    odds_url = \"http://boatrace.jp/owpc/pc/race/\" + crawl_key + \"?rno=\" + rno + \"&jcd=\" + jcd_dict[jcd] + \"&hd=\" + hd\n",
    "\n",
    "    return odds_url\n",
    "\n",
    "\n",
    "def html_parser(site_url):\n",
    "    headers = {\n",
    "        \"User-Agent\": \"Mozilla/5.0 (X11; Ubuntu; Linux x86_64; rv:47.0) Gecko/20100101 Firefox/47.0\",\n",
    "    }\n",
    "\n",
    "    try:\n",
    "        request = urllib.request.Request(url=site_url, headers=headers)\n",
    "        response = urllib.request.urlopen(request)\n",
    "\n",
    "        html = response.read().decode('utf-8')\n",
    "        soup = BeautifulSoup(html, 'lxml')\n",
    "\n",
    "    # データベース作成の際、remotedisconnectedになった場合,そのレースをパス\n",
    "    except RemoteDisconnected:\n",
    "        print(\"remote disconnected error !\")\n",
    "        return None\n",
    "\n",
    "    except ConnectionResetError:\n",
    "        print(\"Connection Reset error !\")\n",
    "        return None\n",
    "\n",
    "    return soup\n",
    "\n",
    "def get_extractor(crawl_key):\n",
    "    \n",
    "    \"\"\"\n",
    "    クロール先に応じたcrawlerを用意\n",
    "    \n",
    "    \"\"\"\n",
    "    \n",
    "    extractor_dict = {\"racelist\": scrape_racelist,\n",
    "                      \"beforeinfo\": scrape_beforeinfo,\n",
    "                      \"raceresult\": scrape_raceresult,\n",
    "                      }\n",
    "    \n",
    "    return extractor_dict[crawl_key]"
   ]
  },
  {
   "cell_type": "markdown",
   "metadata": {},
   "source": [
    "## 2. 実行\n",
    "- 最初の以下の行にてクロールを行う日付を指定\n",
    "\n",
    "　　　　　　　　`　hd_list = [\"2021/02/0\" + str(day) for day in range(1,10)]`\n",
    "- クロール元：ボートレース 公式サイト（https://boatrace.jp/owpc/pc/race/racelist?rno=12&jcd=01&hd=20210325など）\n",
    "- 保存先：'./crawledData/　以下。日にちごとにファイルを作成し保存"
   ]
  },
  {
   "cell_type": "code",
   "execution_count": 6,
   "metadata": {},
   "outputs": [
    {
     "name": "stdout",
     "output_type": "stream",
     "text": [
      "2020/08/19 のデータをクロール中\n"
     ]
    },
    {
     "data": {
      "application/vnd.jupyter.widget-view+json": {
       "model_id": "a28cd5c580fd4dc48fda067db8ea26d3",
       "version_major": 2,
       "version_minor": 0
      },
      "text/plain": [
       "  0%|          | 0/24 [00:00<?, ?it/s]"
      ]
     },
     "metadata": {},
     "output_type": "display_data"
    },
    {
     "name": "stdout",
     "output_type": "stream",
     "text": [
      "2020/08/20 のデータをクロール中\n"
     ]
    },
    {
     "data": {
      "application/vnd.jupyter.widget-view+json": {
       "model_id": "e7d9970d26bb4e0a83029548a9256bc1",
       "version_major": 2,
       "version_minor": 0
      },
      "text/plain": [
       "  0%|          | 0/24 [00:00<?, ?it/s]"
      ]
     },
     "metadata": {},
     "output_type": "display_data"
    },
    {
     "name": "stdout",
     "output_type": "stream",
     "text": [
      "2020/08/21 のデータをクロール中\n"
     ]
    },
    {
     "data": {
      "application/vnd.jupyter.widget-view+json": {
       "model_id": "1de79d0708134077a1758f25ae355b5c",
       "version_major": 2,
       "version_minor": 0
      },
      "text/plain": [
       "  0%|          | 0/24 [00:00<?, ?it/s]"
      ]
     },
     "metadata": {},
     "output_type": "display_data"
    },
    {
     "name": "stdout",
     "output_type": "stream",
     "text": [
      "2020/08/22 のデータをクロール中\n"
     ]
    },
    {
     "data": {
      "application/vnd.jupyter.widget-view+json": {
       "model_id": "0f24ee7df13d4ad19deb1c3fa4e155a1",
       "version_major": 2,
       "version_minor": 0
      },
      "text/plain": [
       "  0%|          | 0/24 [00:00<?, ?it/s]"
      ]
     },
     "metadata": {},
     "output_type": "display_data"
    },
    {
     "name": "stdout",
     "output_type": "stream",
     "text": [
      "2020/08/23 のデータをクロール中\n"
     ]
    },
    {
     "data": {
      "application/vnd.jupyter.widget-view+json": {
       "model_id": "cd282f0b7ec1493e9d483bd2a7bfde36",
       "version_major": 2,
       "version_minor": 0
      },
      "text/plain": [
       "  0%|          | 0/24 [00:00<?, ?it/s]"
      ]
     },
     "metadata": {},
     "output_type": "display_data"
    },
    {
     "name": "stdout",
     "output_type": "stream",
     "text": [
      "2020/08/24 のデータをクロール中\n"
     ]
    },
    {
     "data": {
      "application/vnd.jupyter.widget-view+json": {
       "model_id": "dbf3d25d41064d37bb329892754f597a",
       "version_major": 2,
       "version_minor": 0
      },
      "text/plain": [
       "  0%|          | 0/24 [00:00<?, ?it/s]"
      ]
     },
     "metadata": {},
     "output_type": "display_data"
    },
    {
     "name": "stdout",
     "output_type": "stream",
     "text": [
      "2020/08/25 のデータをクロール中\n"
     ]
    },
    {
     "data": {
      "application/vnd.jupyter.widget-view+json": {
       "model_id": "f1dfa8dd15b04c67a51e3b01425a734f",
       "version_major": 2,
       "version_minor": 0
      },
      "text/plain": [
       "  0%|          | 0/24 [00:00<?, ?it/s]"
      ]
     },
     "metadata": {},
     "output_type": "display_data"
    },
    {
     "name": "stdout",
     "output_type": "stream",
     "text": [
      "2020/08/26 のデータをクロール中\n"
     ]
    },
    {
     "data": {
      "application/vnd.jupyter.widget-view+json": {
       "model_id": "aad21737af92492ca73379e3c6f0d1fb",
       "version_major": 2,
       "version_minor": 0
      },
      "text/plain": [
       "  0%|          | 0/24 [00:00<?, ?it/s]"
      ]
     },
     "metadata": {},
     "output_type": "display_data"
    },
    {
     "name": "stdout",
     "output_type": "stream",
     "text": [
      "2020/08/27 のデータをクロール中\n"
     ]
    },
    {
     "data": {
      "application/vnd.jupyter.widget-view+json": {
       "model_id": "f6050bf3b1e94f74b63fa477a593bcd2",
       "version_major": 2,
       "version_minor": 0
      },
      "text/plain": [
       "  0%|          | 0/24 [00:00<?, ?it/s]"
      ]
     },
     "metadata": {},
     "output_type": "display_data"
    },
    {
     "name": "stdout",
     "output_type": "stream",
     "text": [
      "2020/08/28 のデータをクロール中\n"
     ]
    },
    {
     "data": {
      "application/vnd.jupyter.widget-view+json": {
       "model_id": "c9cbfc3863f14cbc9329a163ff52e199",
       "version_major": 2,
       "version_minor": 0
      },
      "text/plain": [
       "  0%|          | 0/24 [00:00<?, ?it/s]"
      ]
     },
     "metadata": {},
     "output_type": "display_data"
    },
    {
     "name": "stdout",
     "output_type": "stream",
     "text": [
      "2020/08/29 のデータをクロール中\n"
     ]
    },
    {
     "data": {
      "application/vnd.jupyter.widget-view+json": {
       "model_id": "c1e0ad15920b461f9f82e8950d2da89b",
       "version_major": 2,
       "version_minor": 0
      },
      "text/plain": [
       "  0%|          | 0/24 [00:00<?, ?it/s]"
      ]
     },
     "metadata": {},
     "output_type": "display_data"
    },
    {
     "name": "stdout",
     "output_type": "stream",
     "text": [
      "2020/08/30 のデータをクロール中\n"
     ]
    },
    {
     "data": {
      "application/vnd.jupyter.widget-view+json": {
       "model_id": "26e4b1dec3d04ca6b81e94a7078ca247",
       "version_major": 2,
       "version_minor": 0
      },
      "text/plain": [
       "  0%|          | 0/24 [00:00<?, ?it/s]"
      ]
     },
     "metadata": {},
     "output_type": "display_data"
    },
    {
     "name": "stdout",
     "output_type": "stream",
     "text": [
      "2020/08/31 のデータをクロール中\n"
     ]
    },
    {
     "data": {
      "application/vnd.jupyter.widget-view+json": {
       "model_id": "0069b76ff861417b90469947afc61d9b",
       "version_major": 2,
       "version_minor": 0
      },
      "text/plain": [
       "  0%|          | 0/24 [00:00<?, ?it/s]"
      ]
     },
     "metadata": {},
     "output_type": "display_data"
    }
   ],
   "source": [
    "hd_list = [\"2020/08/\" + str(day).zfill(2) for day in range(19,32)]\n",
    "\n",
    "crawl_key_list = [\"racelist\", \"beforeinfo\", \"raceresult\"]\n",
    "jcd_list =  [\"桐　生\", \"戸　田\", \"江戸川\", \"平和島\", \"多摩川\", \"浜名湖\", \"蒲　郡\", \"常　滑\",\n",
    "                \"　津　\", \"三　国\", \"びわこ\", \"住之江\", \"尼　崎\", \"鳴　門\", \"丸　亀\", \"児　島\",\n",
    "                \"宮　島\", \"徳　山\", \"下　関\", \"若　松\", \"芦　屋\", \"福　岡\", \"唐　津\", \"大　村\"\n",
    "            ]\n",
    "\n",
    "for hd in hd_list:\n",
    "    print(\"{0} のデータをクロール中\".format(hd))\n",
    "\n",
    "    # 1日単位でデータを集めてファイルに保存する\n",
    "    today_race_df_list = []\n",
    "\n",
    "    for jcd in tqdm(jcd_list):\n",
    "        for i in range(1, 13):\n",
    "            rno = str(i) + \"R\"\n",
    "\n",
    "            # その日レースがない場所は飛ばすためのtry-except         \n",
    "            try:\n",
    "                # 色々なkeyに対してクロールして特定のレースの情報がまとまったdfを作る\n",
    "                race_info_df_list = []\n",
    "\n",
    "                for crawl_key in crawl_key_list:\n",
    "                    raceResult_url = make_url(crawl_key, rno, jcd, hd)\n",
    "\n",
    "                    # パース\n",
    "                    soup = html_parser(raceResult_url)\n",
    "\n",
    "                    # extractorの指定\n",
    "                    the_extractor = get_extractor(crawl_key)\n",
    "\n",
    "                    # 対象サイトをcrawl\n",
    "                    race_information_df = the_extractor(soup, rno, jcd, hd)\n",
    "                    race_information_df = race_information_df.set_index([\"date\", \"venue\", \"raceNumber\", \"枠\"])\n",
    "\n",
    "                    race_info_df_list.append(race_information_df)\n",
    "\n",
    "                this_race_df =pd.concat(race_info_df_list, axis=1)\n",
    "                # 今回のレースのデータを本日のデータを集めたリストに格納\n",
    "                today_race_df_list.append(this_race_df)\n",
    "\n",
    "            except IndexError:\n",
    "                # print(hd + \" \" + jcd + rno +\"データなし\")\n",
    "                pass\n",
    "            \n",
    "            except AttributeError:\n",
    "                pass\n",
    "            \n",
    "            except ValueError:\n",
    "                # late startの場合、枠番を書く場所がないのでvalue errorになる。とりあえず外しておく\n",
    "                pass\n",
    "\n",
    "    # 本日のレースデータを集めたリストをdfに変換    \n",
    "    today_race_df = pd.concat(today_race_df_list, axis = 0)\n",
    "\n",
    "    # pickleファイルで保存\n",
    "    today_race_df.to_pickle('../../data/crawledData/race_result/{0}.pkl'.format(\"\".join(hd.split(\"/\"))))"
   ]
  },
  {
   "cell_type": "code",
   "execution_count": 7,
   "metadata": {},
   "outputs": [
    {
     "name": "stdout",
     "output_type": "stream",
     "text": [
      "大　村 12R racelist\n"
     ]
    }
   ],
   "source": [
    "print(jcd, rno, crawl_key)"
   ]
  },
  {
   "cell_type": "code",
   "execution_count": 8,
   "metadata": {},
   "outputs": [
    {
     "name": "stderr",
     "output_type": "stream",
     "text": [
      "/Users/grice/opt/anaconda3/envs/boatrace2/lib/python3.8/site-packages/pandas/core/indexing.py:889: PerformanceWarning: indexing past lexsort depth may impact performance.\n",
      "  return self._getitem_tuple(key)\n"
     ]
    },
    {
     "data": {
      "text/html": [
       "<div>\n",
       "<style scoped>\n",
       "    .dataframe tbody tr th:only-of-type {\n",
       "        vertical-align: middle;\n",
       "    }\n",
       "\n",
       "    .dataframe tbody tr th {\n",
       "        vertical-align: top;\n",
       "    }\n",
       "\n",
       "    .dataframe thead th {\n",
       "        text-align: right;\n",
       "    }\n",
       "</style>\n",
       "<table border=\"1\" class=\"dataframe\">\n",
       "  <thead>\n",
       "    <tr style=\"text-align: right;\">\n",
       "      <th></th>\n",
       "      <th>racer_id</th>\n",
       "      <th>racer_class</th>\n",
       "      <th>racer_name</th>\n",
       "      <th>num_false_start</th>\n",
       "      <th>num_late_start</th>\n",
       "      <th>motorNo</th>\n",
       "      <th>モーター2連率</th>\n",
       "      <th>モーター3連率</th>\n",
       "      <th>boatNo</th>\n",
       "      <th>ボート2連率</th>\n",
       "      <th>...</th>\n",
       "      <th>wave_height</th>\n",
       "      <th>weight</th>\n",
       "      <th>exhibitionTime</th>\n",
       "      <th>tilt</th>\n",
       "      <th>exhibition_cource</th>\n",
       "      <th>exhibition_start_time</th>\n",
       "      <th>着順</th>\n",
       "      <th>タイム</th>\n",
       "      <th>進入コース</th>\n",
       "      <th>start_time</th>\n",
       "    </tr>\n",
       "    <tr>\n",
       "      <th>枠</th>\n",
       "      <th></th>\n",
       "      <th></th>\n",
       "      <th></th>\n",
       "      <th></th>\n",
       "      <th></th>\n",
       "      <th></th>\n",
       "      <th></th>\n",
       "      <th></th>\n",
       "      <th></th>\n",
       "      <th></th>\n",
       "      <th></th>\n",
       "      <th></th>\n",
       "      <th></th>\n",
       "      <th></th>\n",
       "      <th></th>\n",
       "      <th></th>\n",
       "      <th></th>\n",
       "      <th></th>\n",
       "      <th></th>\n",
       "      <th></th>\n",
       "      <th></th>\n",
       "    </tr>\n",
       "  </thead>\n",
       "  <tbody>\n",
       "    <tr>\n",
       "      <th>1</th>\n",
       "      <td>4226</td>\n",
       "      <td>B1</td>\n",
       "      <td>村田　　浩司</td>\n",
       "      <td>F0</td>\n",
       "      <td>L0</td>\n",
       "      <td>31</td>\n",
       "      <td>32.67</td>\n",
       "      <td>44.00</td>\n",
       "      <td>51</td>\n",
       "      <td>85.71</td>\n",
       "      <td>...</td>\n",
       "      <td>5</td>\n",
       "      <td>52.4</td>\n",
       "      <td>6.70</td>\n",
       "      <td>-0.5</td>\n",
       "      <td>1</td>\n",
       "      <td>.25</td>\n",
       "      <td>１</td>\n",
       "      <td>1'49\"8</td>\n",
       "      <td>1</td>\n",
       "      <td>0.11</td>\n",
       "    </tr>\n",
       "    <tr>\n",
       "      <th>2</th>\n",
       "      <td>3527</td>\n",
       "      <td>A2</td>\n",
       "      <td>中嶋　誠一郎</td>\n",
       "      <td>F1</td>\n",
       "      <td>L0</td>\n",
       "      <td>30</td>\n",
       "      <td>37.97</td>\n",
       "      <td>53.16</td>\n",
       "      <td>40</td>\n",
       "      <td>16.67</td>\n",
       "      <td>...</td>\n",
       "      <td>5</td>\n",
       "      <td>52.5</td>\n",
       "      <td>6.74</td>\n",
       "      <td>-0.5</td>\n",
       "      <td>2</td>\n",
       "      <td>.01</td>\n",
       "      <td>２</td>\n",
       "      <td>1'51\"4</td>\n",
       "      <td>2</td>\n",
       "      <td>0.19</td>\n",
       "    </tr>\n",
       "    <tr>\n",
       "      <th>3</th>\n",
       "      <td>3703</td>\n",
       "      <td>B2</td>\n",
       "      <td>鳥飼　　　眞</td>\n",
       "      <td>F1</td>\n",
       "      <td>L0</td>\n",
       "      <td>26</td>\n",
       "      <td>27.56</td>\n",
       "      <td>38.46</td>\n",
       "      <td>59</td>\n",
       "      <td>28.57</td>\n",
       "      <td>...</td>\n",
       "      <td>5</td>\n",
       "      <td>51.0</td>\n",
       "      <td>6.76</td>\n",
       "      <td>-0.5</td>\n",
       "      <td>3</td>\n",
       "      <td>.05</td>\n",
       "      <td>３</td>\n",
       "      <td>1'52\"7</td>\n",
       "      <td>3</td>\n",
       "      <td>0.19</td>\n",
       "    </tr>\n",
       "    <tr>\n",
       "      <th>4</th>\n",
       "      <td>3587</td>\n",
       "      <td>B1</td>\n",
       "      <td>武田　　信一</td>\n",
       "      <td>F1</td>\n",
       "      <td>L0</td>\n",
       "      <td>34</td>\n",
       "      <td>34.18</td>\n",
       "      <td>57.59</td>\n",
       "      <td>33</td>\n",
       "      <td>33.33</td>\n",
       "      <td>...</td>\n",
       "      <td>5</td>\n",
       "      <td>59.4</td>\n",
       "      <td>6.78</td>\n",
       "      <td>-0.5</td>\n",
       "      <td>4</td>\n",
       "      <td>.09</td>\n",
       "      <td>５</td>\n",
       "      <td>1'54\"2</td>\n",
       "      <td>4</td>\n",
       "      <td>0.13</td>\n",
       "    </tr>\n",
       "    <tr>\n",
       "      <th>5</th>\n",
       "      <td>3684</td>\n",
       "      <td>A2</td>\n",
       "      <td>清水　　攻二</td>\n",
       "      <td>F1</td>\n",
       "      <td>L0</td>\n",
       "      <td>54</td>\n",
       "      <td>32.39</td>\n",
       "      <td>47.18</td>\n",
       "      <td>49</td>\n",
       "      <td>44.44</td>\n",
       "      <td>...</td>\n",
       "      <td>5</td>\n",
       "      <td>52.0</td>\n",
       "      <td>6.71</td>\n",
       "      <td>-0.5</td>\n",
       "      <td>5</td>\n",
       "      <td>.09</td>\n",
       "      <td>４</td>\n",
       "      <td>1'53\"9</td>\n",
       "      <td>5</td>\n",
       "      <td>0.15</td>\n",
       "    </tr>\n",
       "    <tr>\n",
       "      <th>6</th>\n",
       "      <td>4375</td>\n",
       "      <td>A2</td>\n",
       "      <td>照屋　　厚仁</td>\n",
       "      <td>F0</td>\n",
       "      <td>L0</td>\n",
       "      <td>48</td>\n",
       "      <td>31.01</td>\n",
       "      <td>50.00</td>\n",
       "      <td>43</td>\n",
       "      <td>83.33</td>\n",
       "      <td>...</td>\n",
       "      <td>5</td>\n",
       "      <td>52.0</td>\n",
       "      <td>6.69</td>\n",
       "      <td>0.0</td>\n",
       "      <td>6</td>\n",
       "      <td>F.09</td>\n",
       "      <td>６</td>\n",
       "      <td>1'55\"4</td>\n",
       "      <td>6</td>\n",
       "      <td>0.12</td>\n",
       "    </tr>\n",
       "  </tbody>\n",
       "</table>\n",
       "<p>6 rows × 25 columns</p>\n",
       "</div>"
      ],
      "text/plain": [
       "  racer_id racer_class racer_name num_false_start num_late_start motorNo  \\\n",
       "枠                                                                          \n",
       "1     4226          B1     村田　　浩司              F0             L0      31   \n",
       "2     3527          A2     中嶋　誠一郎              F1             L0      30   \n",
       "3     3703          B2     鳥飼　　　眞              F1             L0      26   \n",
       "4     3587          B1     武田　　信一              F1             L0      34   \n",
       "5     3684          A2     清水　　攻二              F1             L0      54   \n",
       "6     4375          A2     照屋　　厚仁              F0             L0      48   \n",
       "\n",
       "  モーター2連率 モーター3連率 boatNo  ボート2連率  ... wave_height weight exhibitionTime  tilt  \\\n",
       "枠                                 ...                                           \n",
       "1   32.67   44.00     51   85.71  ...           5   52.4           6.70  -0.5   \n",
       "2   37.97   53.16     40   16.67  ...           5   52.5           6.74  -0.5   \n",
       "3   27.56   38.46     59   28.57  ...           5   51.0           6.76  -0.5   \n",
       "4   34.18   57.59     33   33.33  ...           5   59.4           6.78  -0.5   \n",
       "5   32.39   47.18     49   44.44  ...           5   52.0           6.71  -0.5   \n",
       "6   31.01   50.00     43   83.33  ...           5   52.0           6.69   0.0   \n",
       "\n",
       "  exhibition_cource exhibition_start_time 着順     タイム 進入コース  start_time  \n",
       "枠                                                                       \n",
       "1                 1                   .25  １  1'49\"8     1        0.11  \n",
       "2                 2                   .01  ２  1'51\"4     2        0.19  \n",
       "3                 3                   .05  ３  1'52\"7     3        0.19  \n",
       "4                 4                   .09  ５  1'54\"2     4        0.13  \n",
       "5                 5                   .09  ４  1'53\"9     5        0.15  \n",
       "6                 6                  F.09  ６  1'55\"4     6        0.12  \n",
       "\n",
       "[6 rows x 25 columns]"
      ]
     },
     "execution_count": 8,
     "metadata": {},
     "output_type": "execute_result"
    }
   ],
   "source": [
    "# ファイル内容確認用\n",
    "df = pd.read_pickle('../../data/crawledData/race_result/20210407.pkl')\n",
    "df.loc[(\"2021-04-07\", \"唐　津\", \"9\"), :]"
   ]
  },
  {
   "cell_type": "code",
   "execution_count": 9,
   "metadata": {},
   "outputs": [
    {
     "name": "stdout",
     "output_type": "stream",
     "text": [
      "http://boatrace.jp/owpc/pc/race/beforeinfo?rno=9&jcd=24&hd=20210401\n"
     ]
    },
    {
     "data": {
      "text/html": [
       "<div>\n",
       "<style scoped>\n",
       "    .dataframe tbody tr th:only-of-type {\n",
       "        vertical-align: middle;\n",
       "    }\n",
       "\n",
       "    .dataframe tbody tr th {\n",
       "        vertical-align: top;\n",
       "    }\n",
       "\n",
       "    .dataframe thead th {\n",
       "        text-align: right;\n",
       "    }\n",
       "</style>\n",
       "<table border=\"1\" class=\"dataframe\">\n",
       "  <thead>\n",
       "    <tr style=\"text-align: right;\">\n",
       "      <th></th>\n",
       "      <th></th>\n",
       "      <th></th>\n",
       "      <th></th>\n",
       "      <th>temperature</th>\n",
       "      <th>weather</th>\n",
       "      <th>wind_speed</th>\n",
       "      <th>water_temperature</th>\n",
       "      <th>wave_height</th>\n",
       "      <th>weight</th>\n",
       "      <th>exhibitionTime</th>\n",
       "      <th>tilt</th>\n",
       "      <th>exhibition_cource</th>\n",
       "      <th>exhibition_start_time</th>\n",
       "    </tr>\n",
       "    <tr>\n",
       "      <th>date</th>\n",
       "      <th>venue</th>\n",
       "      <th>raceNumber</th>\n",
       "      <th>枠</th>\n",
       "      <th></th>\n",
       "      <th></th>\n",
       "      <th></th>\n",
       "      <th></th>\n",
       "      <th></th>\n",
       "      <th></th>\n",
       "      <th></th>\n",
       "      <th></th>\n",
       "      <th></th>\n",
       "      <th></th>\n",
       "    </tr>\n",
       "  </thead>\n",
       "  <tbody>\n",
       "    <tr>\n",
       "      <th rowspan=\"6\" valign=\"top\">2021-04-01</th>\n",
       "      <th rowspan=\"6\" valign=\"top\">大　村</th>\n",
       "      <th rowspan=\"6\" valign=\"top\">9</th>\n",
       "      <th>1</th>\n",
       "      <td>21.0</td>\n",
       "      <td>曇り</td>\n",
       "      <td>0</td>\n",
       "      <td>15.0</td>\n",
       "      <td>0</td>\n",
       "      <td>52.0</td>\n",
       "      <td>6.95</td>\n",
       "      <td>-0.5</td>\n",
       "      <td>1</td>\n",
       "      <td>.27</td>\n",
       "    </tr>\n",
       "    <tr>\n",
       "      <th>2</th>\n",
       "      <td>21.0</td>\n",
       "      <td>曇り</td>\n",
       "      <td>0</td>\n",
       "      <td>15.0</td>\n",
       "      <td>0</td>\n",
       "      <td>47.0</td>\n",
       "      <td>6.95</td>\n",
       "      <td>-0.5</td>\n",
       "      <td>3</td>\n",
       "      <td>.23</td>\n",
       "    </tr>\n",
       "    <tr>\n",
       "      <th>3</th>\n",
       "      <td>21.0</td>\n",
       "      <td>曇り</td>\n",
       "      <td>0</td>\n",
       "      <td>15.0</td>\n",
       "      <td>0</td>\n",
       "      <td>51.5</td>\n",
       "      <td>7.02</td>\n",
       "      <td>-0.5</td>\n",
       "      <td>4</td>\n",
       "      <td>.17</td>\n",
       "    </tr>\n",
       "    <tr>\n",
       "      <th>4</th>\n",
       "      <td>21.0</td>\n",
       "      <td>曇り</td>\n",
       "      <td>0</td>\n",
       "      <td>15.0</td>\n",
       "      <td>0</td>\n",
       "      <td>50.5</td>\n",
       "      <td>6.90</td>\n",
       "      <td>-0.5</td>\n",
       "      <td>2</td>\n",
       "      <td>.07</td>\n",
       "    </tr>\n",
       "    <tr>\n",
       "      <th>5</th>\n",
       "      <td>21.0</td>\n",
       "      <td>曇り</td>\n",
       "      <td>0</td>\n",
       "      <td>15.0</td>\n",
       "      <td>0</td>\n",
       "      <td>51.5</td>\n",
       "      <td>6.92</td>\n",
       "      <td>-0.5</td>\n",
       "      <td>5</td>\n",
       "      <td>.11</td>\n",
       "    </tr>\n",
       "    <tr>\n",
       "      <th>6</th>\n",
       "      <td>21.0</td>\n",
       "      <td>曇り</td>\n",
       "      <td>0</td>\n",
       "      <td>15.0</td>\n",
       "      <td>0</td>\n",
       "      <td>52.0</td>\n",
       "      <td>6.91</td>\n",
       "      <td>0.0</td>\n",
       "      <td>6</td>\n",
       "      <td>.07</td>\n",
       "    </tr>\n",
       "  </tbody>\n",
       "</table>\n",
       "</div>"
      ],
      "text/plain": [
       "                              temperature weather wind_speed  \\\n",
       "date       venue raceNumber 枠                                  \n",
       "2021-04-01 大　村   9          1        21.0      曇り          0   \n",
       "                            2        21.0      曇り          0   \n",
       "                            3        21.0      曇り          0   \n",
       "                            4        21.0      曇り          0   \n",
       "                            5        21.0      曇り          0   \n",
       "                            6        21.0      曇り          0   \n",
       "\n",
       "                              water_temperature wave_height weight  \\\n",
       "date       venue raceNumber 枠                                        \n",
       "2021-04-01 大　村   9          1              15.0           0   52.0   \n",
       "                            2              15.0           0   47.0   \n",
       "                            3              15.0           0   51.5   \n",
       "                            4              15.0           0   50.5   \n",
       "                            5              15.0           0   51.5   \n",
       "                            6              15.0           0   52.0   \n",
       "\n",
       "                              exhibitionTime  tilt  exhibition_cource  \\\n",
       "date       venue raceNumber 枠                                           \n",
       "2021-04-01 大　村   9          1           6.95  -0.5                  1   \n",
       "                            2           6.95  -0.5                  3   \n",
       "                            3           7.02  -0.5                  4   \n",
       "                            4           6.90  -0.5                  2   \n",
       "                            5           6.92  -0.5                  5   \n",
       "                            6           6.91   0.0                  6   \n",
       "\n",
       "                              exhibition_start_time  \n",
       "date       venue raceNumber 枠                        \n",
       "2021-04-01 大　村   9          1                   .27  \n",
       "                            2                   .23  \n",
       "                            3                   .17  \n",
       "                            4                   .07  \n",
       "                            5                   .11  \n",
       "                            6                   .07  "
      ]
     },
     "execution_count": 9,
     "metadata": {},
     "output_type": "execute_result"
    }
   ],
   "source": [
    "# crawlerの動きを確認する用\n",
    "\n",
    "crawl_key = \"beforeinfo\"\n",
    "jcd =  \"大　村\"\n",
    "hd = \"2021/04/01\"\n",
    "rno = \"9R\"\n",
    "\n",
    "raceResult_url = make_url(crawl_key, rno, jcd, hd)\n",
    "print(raceResult_url)\n",
    "\n",
    "# パース\n",
    "soup = html_parser(raceResult_url)\n",
    "\n",
    "# extractorの指定\n",
    "the_extractor = get_extractor(crawl_key)\n",
    "\n",
    "# 対象サイトをcrawl\n",
    "race_information_df = the_extractor(soup, rno, jcd, hd)\n",
    "race_information_df = race_information_df.set_index([\"date\", \"venue\", \"raceNumber\", \"枠\"])\n",
    "race_information_df"
   ]
  }
 ],
 "metadata": {
  "kernelspec": {
   "display_name": "Python 3",
   "language": "python",
   "name": "python3"
  },
  "language_info": {
   "codemirror_mode": {
    "name": "ipython",
    "version": 3
   },
   "file_extension": ".py",
   "mimetype": "text/x-python",
   "name": "python",
   "nbconvert_exporter": "python",
   "pygments_lexer": "ipython3",
   "version": "3.8.8"
  }
 },
 "nbformat": 4,
 "nbformat_minor": 4
}
